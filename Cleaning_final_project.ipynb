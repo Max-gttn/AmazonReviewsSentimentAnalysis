{
 "cells": [
  {
   "cell_type": "markdown",
   "id": "d3c1d82b",
   "metadata": {},
   "source": [
    "# Final Project "
   ]
  },
  {
   "cell_type": "code",
   "execution_count": 1,
   "id": "95b6a5b8",
   "metadata": {},
   "outputs": [],
   "source": [
    "import nltk\n",
    "from wordcloud import WordCloud, STOPWORDS \n",
    "import matplotlib.pyplot as plt \n",
    "import pandas as pd\n",
    "import  numpy as np\n",
    "from PIL import Image\n",
    "import requests\n",
    "import json\n",
    "import re\n",
    "import string\n",
    "\n",
    "from pprint import pprint\n",
    "from tkinter import *\n",
    "from translate import Translator\n",
    "from deep_translator import GoogleTranslator\n",
    "from googletrans import Translator\n",
    "import fasttext\n",
    "import warnings\n",
    "import nltk\n",
    "from nltk.corpus import stopwords\n",
    "from textblob import TextBlob\n",
    "from nltk.stem import WordNetLemmatizer \n",
    "from nltk.tokenize import word_tokenize\n",
    "from nltk.corpus import wordnet\n",
    "\n",
    "\n"
   ]
  },
  {
   "cell_type": "code",
   "execution_count": 2,
   "id": "60c3f83e",
   "metadata": {},
   "outputs": [
    {
     "name": "stderr",
     "output_type": "stream",
     "text": [
      "[nltk_data] Downloading package wordnet to /Users/anak/nltk_data...\n",
      "[nltk_data]   Package wordnet is already up-to-date!\n"
     ]
    },
    {
     "data": {
      "text/plain": [
       "True"
      ]
     },
     "execution_count": 2,
     "metadata": {},
     "output_type": "execute_result"
    }
   ],
   "source": [
    "nltk.download('wordnet')"
   ]
  },
  {
   "cell_type": "code",
   "execution_count": 3,
   "id": "cd0d6552",
   "metadata": {},
   "outputs": [
    {
     "name": "stderr",
     "output_type": "stream",
     "text": [
      "[nltk_data] Downloading package stopwords to /Users/anak/nltk_data...\n",
      "[nltk_data]   Package stopwords is already up-to-date!\n"
     ]
    },
    {
     "data": {
      "text/plain": [
       "True"
      ]
     },
     "execution_count": 3,
     "metadata": {},
     "output_type": "execute_result"
    }
   ],
   "source": [
    "nltk.download('stopwords')"
   ]
  },
  {
   "cell_type": "code",
   "execution_count": 4,
   "id": "1847cfaa",
   "metadata": {},
   "outputs": [],
   "source": [
    "#nltk.download('punkt')\n",
    "#nltk.download('averaged_perceptron_tagger')"
   ]
  },
  {
   "cell_type": "code",
   "execution_count": 5,
   "id": "7ad04168",
   "metadata": {},
   "outputs": [],
   "source": [
    "warnings.filterwarnings(\"ignore\")"
   ]
  },
  {
   "cell_type": "code",
   "execution_count": 6,
   "id": "4af5eb71",
   "metadata": {},
   "outputs": [
    {
     "name": "stdout",
     "output_type": "stream",
     "text": [
      "(164, 3)\n"
     ]
    }
   ],
   "source": [
    "data=pd.read_csv('reviewsVichy2.csv')\n",
    "print(data.shape)"
   ]
  },
  {
   "cell_type": "code",
   "execution_count": 7,
   "id": "cb298709",
   "metadata": {},
   "outputs": [
    {
     "data": {
      "text/html": [
       "<div>\n",
       "<style scoped>\n",
       "    .dataframe tbody tr th:only-of-type {\n",
       "        vertical-align: middle;\n",
       "    }\n",
       "\n",
       "    .dataframe tbody tr th {\n",
       "        vertical-align: top;\n",
       "    }\n",
       "\n",
       "    .dataframe thead th {\n",
       "        text-align: right;\n",
       "    }\n",
       "</style>\n",
       "<table border=\"1\" class=\"dataframe\">\n",
       "  <thead>\n",
       "    <tr style=\"text-align: right;\">\n",
       "      <th></th>\n",
       "      <th>title</th>\n",
       "      <th>stars</th>\n",
       "      <th>comment</th>\n",
       "    </tr>\n",
       "  </thead>\n",
       "  <tbody>\n",
       "    <tr>\n",
       "      <th>0</th>\n",
       "      <td>\\n\\n\\n\\n\\n\\n\\n\\n  \\n  \\n    Excelente\\n  \\n</td>\n",
       "      <td>5.0 out of 5 stars</td>\n",
       "      <td>\\n\\n\\n\\n\\n\\n\\n\\n\\n\\n  \\n  \\n    \\n  Excelente\\...</td>\n",
       "    </tr>\n",
       "    <tr>\n",
       "      <th>1</th>\n",
       "      <td>\\n\\n\\n\\n\\n\\n\\n\\n  \\n    Excelente producto. Gr...</td>\n",
       "      <td>5.0 out of 5 stars</td>\n",
       "      <td>\\n\\n\\n\\n\\n\\n\\n\\n\\n\\n  \\n    \\n  Ideal para usa...</td>\n",
       "    </tr>\n",
       "    <tr>\n",
       "      <th>2</th>\n",
       "      <td>\\n\\n\\n\\n\\n\\n\\n\\n  \\n    Amei o produto\\n  \\n  \\n</td>\n",
       "      <td>5.0 out of 5 stars</td>\n",
       "      <td>\\n\\n\\n\\n\\n\\n\\n\\n\\n\\n  \\n    \\n  Produto ótimo\\...</td>\n",
       "    </tr>\n",
       "    <tr>\n",
       "      <th>3</th>\n",
       "      <td>\\n\\n\\n\\n\\n\\n\\n\\n  \\n  \\n    Great product but ...</td>\n",
       "      <td>1.0 out of 5 stars</td>\n",
       "      <td>\\n\\n\\n\\n\\n\\n\\n\\n\\n\\n  \\n  \\n    \\n  Half bottl...</td>\n",
       "    </tr>\n",
       "    <tr>\n",
       "      <th>4</th>\n",
       "      <td>\\n\\n\\n\\n\\n\\n\\n\\n  \\n  \\n    I loved it\\n  \\n</td>\n",
       "      <td>5.0 out of 5 stars</td>\n",
       "      <td>\\n\\n\\n\\n\\n\\n\\n\\n\\n\\n  \\n  \\n    \\n  Love it\\n\\...</td>\n",
       "    </tr>\n",
       "  </tbody>\n",
       "</table>\n",
       "</div>"
      ],
      "text/plain": [
       "                                               title               stars  \\\n",
       "0        \\n\\n\\n\\n\\n\\n\\n\\n  \\n  \\n    Excelente\\n  \\n  5.0 out of 5 stars   \n",
       "1  \\n\\n\\n\\n\\n\\n\\n\\n  \\n    Excelente producto. Gr...  5.0 out of 5 stars   \n",
       "2   \\n\\n\\n\\n\\n\\n\\n\\n  \\n    Amei o produto\\n  \\n  \\n  5.0 out of 5 stars   \n",
       "3  \\n\\n\\n\\n\\n\\n\\n\\n  \\n  \\n    Great product but ...  1.0 out of 5 stars   \n",
       "4       \\n\\n\\n\\n\\n\\n\\n\\n  \\n  \\n    I loved it\\n  \\n  5.0 out of 5 stars   \n",
       "\n",
       "                                             comment  \n",
       "0  \\n\\n\\n\\n\\n\\n\\n\\n\\n\\n  \\n  \\n    \\n  Excelente\\...  \n",
       "1  \\n\\n\\n\\n\\n\\n\\n\\n\\n\\n  \\n    \\n  Ideal para usa...  \n",
       "2  \\n\\n\\n\\n\\n\\n\\n\\n\\n\\n  \\n    \\n  Produto ótimo\\...  \n",
       "3  \\n\\n\\n\\n\\n\\n\\n\\n\\n\\n  \\n  \\n    \\n  Half bottl...  \n",
       "4  \\n\\n\\n\\n\\n\\n\\n\\n\\n\\n  \\n  \\n    \\n  Love it\\n\\...  "
      ]
     },
     "execution_count": 7,
     "metadata": {},
     "output_type": "execute_result"
    }
   ],
   "source": [
    "data.head()"
   ]
  },
  {
   "cell_type": "markdown",
   "id": "142e45cb",
   "metadata": {},
   "source": [
    "# Basic Cleaning"
   ]
  },
  {
   "cell_type": "code",
   "execution_count": 8,
   "id": "fb472d87",
   "metadata": {},
   "outputs": [],
   "source": [
    "data = data.dropna()\n",
    "data.drop_duplicates(keep = False, inplace = True)"
   ]
  },
  {
   "cell_type": "code",
   "execution_count": 9,
   "id": "267fd507",
   "metadata": {},
   "outputs": [
    {
     "data": {
      "text/plain": [
       "(160, 3)"
      ]
     },
     "execution_count": 9,
     "metadata": {},
     "output_type": "execute_result"
    }
   ],
   "source": [
    "data.shape"
   ]
  },
  {
   "cell_type": "code",
   "execution_count": 10,
   "id": "5f36c948",
   "metadata": {},
   "outputs": [],
   "source": [
    "# remove newline\n",
    "data['title'] = data['title'].replace(\"n\",'')\n",
    "data['stars'] = data['stars'].replace(re.compile(r'\\\\n'),'')"
   ]
  },
  {
   "cell_type": "code",
   "execution_count": 11,
   "id": "6fbb4103",
   "metadata": {},
   "outputs": [],
   "source": [
    "#OPTIMIZEEEEEE\n",
    "# To prepare each column  and take only the score in stars\n",
    "\n",
    "for i in range(0,len(data['title'])):\n",
    "     data['title'].iloc[i]=data['title'].iloc[i].replace('\\n',\"\").replace('-',\" \").strip()\n",
    "\n",
    "\n",
    "for i in range(0,len(data['title'])):\n",
    "     data['comment'].iloc[i]=data['comment'].iloc[i].replace('\\n',\"\").replace('-',\" \").strip()\n",
    "     \n",
    "\n",
    "for i in range(0,len(data['title'])):\n",
    "    a=(data['stars'].iloc[i])\n",
    "    data['stars'].iloc[i] = int(a[0])\n"
   ]
  },
  {
   "cell_type": "code",
   "execution_count": 12,
   "id": "2220e29e",
   "metadata": {},
   "outputs": [],
   "source": [
    "#OPTIMIZEEEEEE\n",
    "\n",
    "def remove_emojis(data):\n",
    "    emoj = re.compile(\"[\"\n",
    "        \"\\U0001F600-\\U0001F64F\"  # emoticons\n",
    "        \"\\U0001F300-\\U0001F5FF\"  # symbols & pictographs\n",
    "        \"\\U0001F680-\\U0001F6FF\"  # transport & map symbols\n",
    "        \"\\U0001F1E0-\\U0001F1FF\"  # flags (iOS)\n",
    "        \"\\U00002702-\\U000027B0\"\n",
    "        \"\\U00002702-\\U000027B0\"\n",
    "        #\"\\U000024C2-\\U0001F251\" #chinese characters\n",
    "        \"\\U0001f926-\\U0001f937\"\n",
    "        \"\\U00010000-\\U0010ffff\"\n",
    "        \"\\u2640-\\u2642\" \n",
    "        \"\\u2600-\\u2B55\"\n",
    "        \"\\u200d\"\n",
    "        \"\\u23cf\"\n",
    "        \"\\u23e9\"\n",
    "        \"\\u231a\"\n",
    "        \"\\ufe0f\"  # dingbats\n",
    "        \"\\u3030\"\n",
    "                      \"]+\", re.UNICODE)\n",
    "     \n",
    "    return re.sub(emoj, '', data)\n",
    "\n",
    "\n",
    "for i in range(0,len(data['title'])):\n",
    "    data['title'].iloc[i]=remove_emojis(data['title'].iloc[i])\n",
    "\n",
    "\n",
    "for i in range(0,len(data['comment'])):\n",
    "    data['comment'].iloc[i]=remove_emojis(data['comment'].iloc[i])\n"
   ]
  },
  {
   "cell_type": "code",
   "execution_count": 13,
   "id": "db43f09b",
   "metadata": {},
   "outputs": [
    {
     "data": {
      "text/html": [
       "<div>\n",
       "<style scoped>\n",
       "    .dataframe tbody tr th:only-of-type {\n",
       "        vertical-align: middle;\n",
       "    }\n",
       "\n",
       "    .dataframe tbody tr th {\n",
       "        vertical-align: top;\n",
       "    }\n",
       "\n",
       "    .dataframe thead th {\n",
       "        text-align: right;\n",
       "    }\n",
       "</style>\n",
       "<table border=\"1\" class=\"dataframe\">\n",
       "  <thead>\n",
       "    <tr style=\"text-align: right;\">\n",
       "      <th></th>\n",
       "      <th>title</th>\n",
       "      <th>stars</th>\n",
       "      <th>comment</th>\n",
       "    </tr>\n",
       "  </thead>\n",
       "  <tbody>\n",
       "    <tr>\n",
       "      <th>0</th>\n",
       "      <td>Excelente</td>\n",
       "      <td>5</td>\n",
       "      <td>Excelente</td>\n",
       "    </tr>\n",
       "    <tr>\n",
       "      <th>1</th>\n",
       "      <td>Excelente producto. Gracias.</td>\n",
       "      <td>5</td>\n",
       "      <td>Ideal para usarlo post. Peeling químico ya que...</td>\n",
       "    </tr>\n",
       "    <tr>\n",
       "      <th>2</th>\n",
       "      <td>Amei o produto</td>\n",
       "      <td>5</td>\n",
       "      <td>Produto ótimo</td>\n",
       "    </tr>\n",
       "    <tr>\n",
       "      <th>3</th>\n",
       "      <td>Great product but cheap packing</td>\n",
       "      <td>1</td>\n",
       "      <td>Half bottle and the spray broke.</td>\n",
       "    </tr>\n",
       "    <tr>\n",
       "      <th>4</th>\n",
       "      <td>I loved it</td>\n",
       "      <td>5</td>\n",
       "      <td>Love it</td>\n",
       "    </tr>\n",
       "  </tbody>\n",
       "</table>\n",
       "</div>"
      ],
      "text/plain": [
       "                             title stars  \\\n",
       "0                        Excelente     5   \n",
       "1     Excelente producto. Gracias.     5   \n",
       "2                   Amei o produto     5   \n",
       "3  Great product but cheap packing     1   \n",
       "4                       I loved it     5   \n",
       "\n",
       "                                             comment  \n",
       "0                                          Excelente  \n",
       "1  Ideal para usarlo post. Peeling químico ya que...  \n",
       "2                                      Produto ótimo  \n",
       "3                   Half bottle and the spray broke.  \n",
       "4                                            Love it  "
      ]
     },
     "execution_count": 13,
     "metadata": {},
     "output_type": "execute_result"
    }
   ],
   "source": [
    "data.head()"
   ]
  },
  {
   "cell_type": "markdown",
   "id": "234364a2",
   "metadata": {},
   "source": [
    "# Filtering English Title/Comments"
   ]
  },
  {
   "cell_type": "code",
   "execution_count": 14,
   "id": "e01c7d09",
   "metadata": {},
   "outputs": [],
   "source": [
    "user_agent = 'Mozilla/5.0 (Macintosh; Intel Mac OS X 10_15_7) AppleWebKit/537.36 (KHTML, like Gecko) Chrome/97.0.4692.99 Safari/537.36'"
   ]
  },
  {
   "cell_type": "markdown",
   "id": "89ebb082",
   "metadata": {},
   "source": [
    "translator = Translator()"
   ]
  },
  {
   "cell_type": "markdown",
   "id": "d4720195",
   "metadata": {},
   "source": [
    "\n",
    "\n",
    "for i in range(0,len(data['title'])):\n",
    "    translation = translator.translate(data['title'].iloc[i],dest='English')\n",
    "    data['title'].iloc[i] = translation\n",
    "\n"
   ]
  },
  {
   "cell_type": "markdown",
   "id": "7e74e299",
   "metadata": {},
   "source": [
    "for i in range(0,len(data['comment'])):\n",
    "    translation = translator.translate(data['comment'].iloc[i],dest='English')\n",
    "    data['comment'].iloc[i] = translation"
   ]
  },
  {
   "cell_type": "code",
   "execution_count": 15,
   "id": "9bee4dbe",
   "metadata": {},
   "outputs": [
    {
     "name": "stderr",
     "output_type": "stream",
     "text": [
      "Warning : `load_model` does not return WordVectorModel or SupervisedModel any more, but a `FastText` object which is very similar.\n"
     ]
    }
   ],
   "source": [
    "# Fastext - library\n",
    "model = fasttext.load_model('lid.176.ftz')\n",
    "s=[]\n",
    "\n",
    "for i in range(0,len(data['title'])):\n",
    "    a=model.predict(data['title'].iloc[i], k=1)\n",
    "    s.append(a[-2][-1][-2:])"
   ]
  },
  {
   "cell_type": "code",
   "execution_count": 16,
   "id": "0fe2c0a8",
   "metadata": {},
   "outputs": [
    {
     "name": "stderr",
     "output_type": "stream",
     "text": [
      "Warning : `load_model` does not return WordVectorModel or SupervisedModel any more, but a `FastText` object which is very similar.\n"
     ]
    }
   ],
   "source": [
    "s2=[]\n",
    "model = fasttext.load_model('lid.176.ftz')\n",
    "for i in range(0,len(data['title'])):\n",
    "    b=model.predict(data['comment'].iloc[i], k=1)\n",
    "    s2.append(b[-2][-1][-2:])\n",
    "\n"
   ]
  },
  {
   "cell_type": "code",
   "execution_count": 17,
   "id": "10c65c4d",
   "metadata": {},
   "outputs": [],
   "source": [
    "data_trans=pd.DataFrame()\n",
    "title=[]\n",
    "comment=[]\n",
    "stars=[]\n",
    "for i in range(0,len(s)):\n",
    "\n",
    "    if s[i]== \"en\" and s2[i]=='en' :\n",
    "        title.append(data['title'].iloc[i])\n",
    "        comment.append(data['comment'].iloc[i])\n",
    "        stars.append(data['stars'].iloc[i])\n",
    "\n",
    "data_trans['stars']=stars\n",
    "data_trans['title']=title\n",
    "data_trans['comment']=comment\n"
   ]
  },
  {
   "cell_type": "code",
   "execution_count": 18,
   "id": "e89a8c83",
   "metadata": {},
   "outputs": [
    {
     "data": {
      "text/html": [
       "<div>\n",
       "<style scoped>\n",
       "    .dataframe tbody tr th:only-of-type {\n",
       "        vertical-align: middle;\n",
       "    }\n",
       "\n",
       "    .dataframe tbody tr th {\n",
       "        vertical-align: top;\n",
       "    }\n",
       "\n",
       "    .dataframe thead th {\n",
       "        text-align: right;\n",
       "    }\n",
       "</style>\n",
       "<table border=\"1\" class=\"dataframe\">\n",
       "  <thead>\n",
       "    <tr style=\"text-align: right;\">\n",
       "      <th></th>\n",
       "      <th>stars</th>\n",
       "      <th>title</th>\n",
       "      <th>comment</th>\n",
       "    </tr>\n",
       "  </thead>\n",
       "  <tbody>\n",
       "    <tr>\n",
       "      <th>0</th>\n",
       "      <td>1</td>\n",
       "      <td>Great product but cheap packing</td>\n",
       "      <td>Half bottle and the spray broke.</td>\n",
       "    </tr>\n",
       "    <tr>\n",
       "      <th>1</th>\n",
       "      <td>5</td>\n",
       "      <td>I loved it</td>\n",
       "      <td>Love it</td>\n",
       "    </tr>\n",
       "    <tr>\n",
       "      <th>2</th>\n",
       "      <td>5</td>\n",
       "      <td>excellent water, the face after it is fresh</td>\n",
       "      <td>Good</td>\n",
       "    </tr>\n",
       "    <tr>\n",
       "      <th>3</th>\n",
       "      <td>4</td>\n",
       "      <td>Good thermal water spray</td>\n",
       "      <td>Great for extra moisture.</td>\n",
       "    </tr>\n",
       "    <tr>\n",
       "      <th>4</th>\n",
       "      <td>5</td>\n",
       "      <td>great size for bag</td>\n",
       "      <td>thermal water is perfect for everyday use and ...</td>\n",
       "    </tr>\n",
       "  </tbody>\n",
       "</table>\n",
       "</div>"
      ],
      "text/plain": [
       "   stars                                        title  \\\n",
       "0      1              Great product but cheap packing   \n",
       "1      5                                   I loved it   \n",
       "2      5  excellent water, the face after it is fresh   \n",
       "3      4                     Good thermal water spray   \n",
       "4      5                           great size for bag   \n",
       "\n",
       "                                             comment  \n",
       "0                   Half bottle and the spray broke.  \n",
       "1                                            Love it  \n",
       "2                                               Good  \n",
       "3                          Great for extra moisture.  \n",
       "4  thermal water is perfect for everyday use and ...  "
      ]
     },
     "execution_count": 18,
     "metadata": {},
     "output_type": "execute_result"
    }
   ],
   "source": [
    "data_trans.head()"
   ]
  },
  {
   "cell_type": "markdown",
   "id": "80a354bf",
   "metadata": {},
   "source": [
    "# Features before  Cleaning"
   ]
  },
  {
   "cell_type": "code",
   "execution_count": 19,
   "id": "a9b800a7",
   "metadata": {},
   "outputs": [],
   "source": [
    "df=pd.DataFrame()\n",
    "df['Stars']=data_trans['stars']\n",
    "df['Text']=data_trans['title']+' '+data_trans['comment']\n"
   ]
  },
  {
   "cell_type": "markdown",
   "id": "c894fea0",
   "metadata": {},
   "source": [
    "## Number of stopwords"
   ]
  },
  {
   "cell_type": "code",
   "execution_count": 20,
   "id": "01588646",
   "metadata": {},
   "outputs": [
    {
     "data": {
      "text/html": [
       "<div>\n",
       "<style scoped>\n",
       "    .dataframe tbody tr th:only-of-type {\n",
       "        vertical-align: middle;\n",
       "    }\n",
       "\n",
       "    .dataframe tbody tr th {\n",
       "        vertical-align: top;\n",
       "    }\n",
       "\n",
       "    .dataframe thead th {\n",
       "        text-align: right;\n",
       "    }\n",
       "</style>\n",
       "<table border=\"1\" class=\"dataframe\">\n",
       "  <thead>\n",
       "    <tr style=\"text-align: right;\">\n",
       "      <th></th>\n",
       "      <th>Text</th>\n",
       "      <th>stopwords</th>\n",
       "    </tr>\n",
       "  </thead>\n",
       "  <tbody>\n",
       "    <tr>\n",
       "      <th>0</th>\n",
       "      <td>Great product but cheap packing Half bottle an...</td>\n",
       "      <td>3</td>\n",
       "    </tr>\n",
       "    <tr>\n",
       "      <th>1</th>\n",
       "      <td>I loved it Love it</td>\n",
       "      <td>2</td>\n",
       "    </tr>\n",
       "    <tr>\n",
       "      <th>2</th>\n",
       "      <td>excellent water, the face after it is fresh Good</td>\n",
       "      <td>4</td>\n",
       "    </tr>\n",
       "    <tr>\n",
       "      <th>3</th>\n",
       "      <td>Good thermal water spray Great for extra moist...</td>\n",
       "      <td>1</td>\n",
       "    </tr>\n",
       "    <tr>\n",
       "      <th>4</th>\n",
       "      <td>great size for bag thermal water is perfect fo...</td>\n",
       "      <td>8</td>\n",
       "    </tr>\n",
       "  </tbody>\n",
       "</table>\n",
       "</div>"
      ],
      "text/plain": [
       "                                                Text  stopwords\n",
       "0  Great product but cheap packing Half bottle an...          3\n",
       "1                                 I loved it Love it          2\n",
       "2   excellent water, the face after it is fresh Good          4\n",
       "3  Good thermal water spray Great for extra moist...          1\n",
       "4  great size for bag thermal water is perfect fo...          8"
      ]
     },
     "execution_count": 20,
     "metadata": {},
     "output_type": "execute_result"
    }
   ],
   "source": [
    "stop=set(stopwords.words('english'))\n",
    "df['stopwords'] = df['Text'].apply(lambda x: len([x for x in x.split() if x in stop]))\n",
    "df[['Text','stopwords']].head()"
   ]
  },
  {
   "cell_type": "markdown",
   "id": "9e0581cc",
   "metadata": {},
   "source": [
    "## Number of Punctuation"
   ]
  },
  {
   "cell_type": "code",
   "execution_count": 21,
   "id": "616ce963",
   "metadata": {},
   "outputs": [
    {
     "data": {
      "text/html": [
       "<div>\n",
       "<style scoped>\n",
       "    .dataframe tbody tr th:only-of-type {\n",
       "        vertical-align: middle;\n",
       "    }\n",
       "\n",
       "    .dataframe tbody tr th {\n",
       "        vertical-align: top;\n",
       "    }\n",
       "\n",
       "    .dataframe thead th {\n",
       "        text-align: right;\n",
       "    }\n",
       "</style>\n",
       "<table border=\"1\" class=\"dataframe\">\n",
       "  <thead>\n",
       "    <tr style=\"text-align: right;\">\n",
       "      <th></th>\n",
       "      <th>Text</th>\n",
       "      <th>punctuation</th>\n",
       "    </tr>\n",
       "  </thead>\n",
       "  <tbody>\n",
       "    <tr>\n",
       "      <th>0</th>\n",
       "      <td>Great product but cheap packing Half bottle an...</td>\n",
       "      <td>1</td>\n",
       "    </tr>\n",
       "    <tr>\n",
       "      <th>1</th>\n",
       "      <td>I loved it Love it</td>\n",
       "      <td>0</td>\n",
       "    </tr>\n",
       "    <tr>\n",
       "      <th>2</th>\n",
       "      <td>excellent water, the face after it is fresh Good</td>\n",
       "      <td>1</td>\n",
       "    </tr>\n",
       "    <tr>\n",
       "      <th>3</th>\n",
       "      <td>Good thermal water spray Great for extra moist...</td>\n",
       "      <td>1</td>\n",
       "    </tr>\n",
       "    <tr>\n",
       "      <th>4</th>\n",
       "      <td>great size for bag thermal water is perfect fo...</td>\n",
       "      <td>0</td>\n",
       "    </tr>\n",
       "  </tbody>\n",
       "</table>\n",
       "</div>"
      ],
      "text/plain": [
       "                                                Text  punctuation\n",
       "0  Great product but cheap packing Half bottle an...            1\n",
       "1                                 I loved it Love it            0\n",
       "2   excellent water, the face after it is fresh Good            1\n",
       "3  Good thermal water spray Great for extra moist...            1\n",
       "4  great size for bag thermal water is perfect fo...            0"
      ]
     },
     "execution_count": 21,
     "metadata": {},
     "output_type": "execute_result"
    }
   ],
   "source": [
    "\n",
    "\n",
    "def count_punct(text):\n",
    "    string.punctuation\n",
    "    count = sum([1 for char in text if char in string.punctuation])\n",
    "    return count\n",
    "\n",
    "#Apply the defined function on the text data\n",
    "df['punctuation'] = df['Text'].apply(lambda x: count_punct(x))\n",
    "#Let's check the dataset\n",
    "df[['Text','punctuation']].head()"
   ]
  },
  {
   "cell_type": "markdown",
   "id": "73048efe",
   "metadata": {},
   "source": [
    "## Number of numerical characters"
   ]
  },
  {
   "cell_type": "code",
   "execution_count": 22,
   "id": "dd253710",
   "metadata": {},
   "outputs": [
    {
     "data": {
      "text/html": [
       "<div>\n",
       "<style scoped>\n",
       "    .dataframe tbody tr th:only-of-type {\n",
       "        vertical-align: middle;\n",
       "    }\n",
       "\n",
       "    .dataframe tbody tr th {\n",
       "        vertical-align: top;\n",
       "    }\n",
       "\n",
       "    .dataframe thead th {\n",
       "        text-align: right;\n",
       "    }\n",
       "</style>\n",
       "<table border=\"1\" class=\"dataframe\">\n",
       "  <thead>\n",
       "    <tr style=\"text-align: right;\">\n",
       "      <th></th>\n",
       "      <th>Text</th>\n",
       "      <th>numerics</th>\n",
       "    </tr>\n",
       "  </thead>\n",
       "  <tbody>\n",
       "    <tr>\n",
       "      <th>0</th>\n",
       "      <td>Great product but cheap packing Half bottle an...</td>\n",
       "      <td>0</td>\n",
       "    </tr>\n",
       "    <tr>\n",
       "      <th>1</th>\n",
       "      <td>I loved it Love it</td>\n",
       "      <td>0</td>\n",
       "    </tr>\n",
       "    <tr>\n",
       "      <th>2</th>\n",
       "      <td>excellent water, the face after it is fresh Good</td>\n",
       "      <td>0</td>\n",
       "    </tr>\n",
       "    <tr>\n",
       "      <th>3</th>\n",
       "      <td>Good thermal water spray Great for extra moist...</td>\n",
       "      <td>0</td>\n",
       "    </tr>\n",
       "    <tr>\n",
       "      <th>4</th>\n",
       "      <td>great size for bag thermal water is perfect fo...</td>\n",
       "      <td>0</td>\n",
       "    </tr>\n",
       "  </tbody>\n",
       "</table>\n",
       "</div>"
      ],
      "text/plain": [
       "                                                Text  numerics\n",
       "0  Great product but cheap packing Half bottle an...         0\n",
       "1                                 I loved it Love it         0\n",
       "2   excellent water, the face after it is fresh Good         0\n",
       "3  Good thermal water spray Great for extra moist...         0\n",
       "4  great size for bag thermal water is perfect fo...         0"
      ]
     },
     "execution_count": 22,
     "metadata": {},
     "output_type": "execute_result"
    }
   ],
   "source": [
    "df['numerics'] = df['Text'].apply(lambda x: len([x for x in x.split() if x.isdigit()]))\n",
    "df[['Text','numerics']].head()"
   ]
  },
  {
   "cell_type": "markdown",
   "id": "9f6060f8",
   "metadata": {},
   "source": [
    "## Number of Uppercase Words"
   ]
  },
  {
   "cell_type": "code",
   "execution_count": 23,
   "id": "e419c680",
   "metadata": {},
   "outputs": [
    {
     "data": {
      "text/html": [
       "<div>\n",
       "<style scoped>\n",
       "    .dataframe tbody tr th:only-of-type {\n",
       "        vertical-align: middle;\n",
       "    }\n",
       "\n",
       "    .dataframe tbody tr th {\n",
       "        vertical-align: top;\n",
       "    }\n",
       "\n",
       "    .dataframe thead th {\n",
       "        text-align: right;\n",
       "    }\n",
       "</style>\n",
       "<table border=\"1\" class=\"dataframe\">\n",
       "  <thead>\n",
       "    <tr style=\"text-align: right;\">\n",
       "      <th></th>\n",
       "      <th>Text</th>\n",
       "      <th>upper</th>\n",
       "    </tr>\n",
       "  </thead>\n",
       "  <tbody>\n",
       "    <tr>\n",
       "      <th>0</th>\n",
       "      <td>Great product but cheap packing Half bottle an...</td>\n",
       "      <td>0</td>\n",
       "    </tr>\n",
       "    <tr>\n",
       "      <th>1</th>\n",
       "      <td>I loved it Love it</td>\n",
       "      <td>1</td>\n",
       "    </tr>\n",
       "    <tr>\n",
       "      <th>2</th>\n",
       "      <td>excellent water, the face after it is fresh Good</td>\n",
       "      <td>0</td>\n",
       "    </tr>\n",
       "    <tr>\n",
       "      <th>3</th>\n",
       "      <td>Good thermal water spray Great for extra moist...</td>\n",
       "      <td>0</td>\n",
       "    </tr>\n",
       "    <tr>\n",
       "      <th>4</th>\n",
       "      <td>great size for bag thermal water is perfect fo...</td>\n",
       "      <td>0</td>\n",
       "    </tr>\n",
       "  </tbody>\n",
       "</table>\n",
       "</div>"
      ],
      "text/plain": [
       "                                                Text  upper\n",
       "0  Great product but cheap packing Half bottle an...      0\n",
       "1                                 I loved it Love it      1\n",
       "2   excellent water, the face after it is fresh Good      0\n",
       "3  Good thermal water spray Great for extra moist...      0\n",
       "4  great size for bag thermal water is perfect fo...      0"
      ]
     },
     "execution_count": 23,
     "metadata": {},
     "output_type": "execute_result"
    }
   ],
   "source": [
    "df['upper'] = df['Text'].apply(lambda x: len([x for x in x.split() if x.isupper()]))\n",
    "df[['Text','upper']].head()"
   ]
  },
  {
   "cell_type": "code",
   "execution_count": 24,
   "id": "9f387a6e",
   "metadata": {},
   "outputs": [
    {
     "data": {
      "text/html": [
       "<div>\n",
       "<style scoped>\n",
       "    .dataframe tbody tr th:only-of-type {\n",
       "        vertical-align: middle;\n",
       "    }\n",
       "\n",
       "    .dataframe tbody tr th {\n",
       "        vertical-align: top;\n",
       "    }\n",
       "\n",
       "    .dataframe thead th {\n",
       "        text-align: right;\n",
       "    }\n",
       "</style>\n",
       "<table border=\"1\" class=\"dataframe\">\n",
       "  <thead>\n",
       "    <tr style=\"text-align: right;\">\n",
       "      <th></th>\n",
       "      <th>Stars</th>\n",
       "      <th>Text</th>\n",
       "      <th>stopwords</th>\n",
       "      <th>punctuation</th>\n",
       "      <th>numerics</th>\n",
       "      <th>upper</th>\n",
       "    </tr>\n",
       "  </thead>\n",
       "  <tbody>\n",
       "    <tr>\n",
       "      <th>0</th>\n",
       "      <td>1</td>\n",
       "      <td>Great product but cheap packing Half bottle an...</td>\n",
       "      <td>3</td>\n",
       "      <td>1</td>\n",
       "      <td>0</td>\n",
       "      <td>0</td>\n",
       "    </tr>\n",
       "    <tr>\n",
       "      <th>1</th>\n",
       "      <td>5</td>\n",
       "      <td>I loved it Love it</td>\n",
       "      <td>2</td>\n",
       "      <td>0</td>\n",
       "      <td>0</td>\n",
       "      <td>1</td>\n",
       "    </tr>\n",
       "    <tr>\n",
       "      <th>2</th>\n",
       "      <td>5</td>\n",
       "      <td>excellent water, the face after it is fresh Good</td>\n",
       "      <td>4</td>\n",
       "      <td>1</td>\n",
       "      <td>0</td>\n",
       "      <td>0</td>\n",
       "    </tr>\n",
       "    <tr>\n",
       "      <th>3</th>\n",
       "      <td>4</td>\n",
       "      <td>Good thermal water spray Great for extra moist...</td>\n",
       "      <td>1</td>\n",
       "      <td>1</td>\n",
       "      <td>0</td>\n",
       "      <td>0</td>\n",
       "    </tr>\n",
       "    <tr>\n",
       "      <th>4</th>\n",
       "      <td>5</td>\n",
       "      <td>great size for bag thermal water is perfect fo...</td>\n",
       "      <td>8</td>\n",
       "      <td>0</td>\n",
       "      <td>0</td>\n",
       "      <td>0</td>\n",
       "    </tr>\n",
       "    <tr>\n",
       "      <th>5</th>\n",
       "      <td>5</td>\n",
       "      <td>NICE MINERAL WATER SPRA, LOVE ITY MY FACE IN T...</td>\n",
       "      <td>0</td>\n",
       "      <td>1</td>\n",
       "      <td>0</td>\n",
       "      <td>22</td>\n",
       "    </tr>\n",
       "    <tr>\n",
       "      <th>6</th>\n",
       "      <td>1</td>\n",
       "      <td>Spray defective waste the product Spray got pl...</td>\n",
       "      <td>9</td>\n",
       "      <td>2</td>\n",
       "      <td>0</td>\n",
       "      <td>0</td>\n",
       "    </tr>\n",
       "    <tr>\n",
       "      <th>7</th>\n",
       "      <td>1</td>\n",
       "      <td>Thermal water I bought this product to use as ...</td>\n",
       "      <td>11</td>\n",
       "      <td>3</td>\n",
       "      <td>0</td>\n",
       "      <td>2</td>\n",
       "    </tr>\n",
       "    <tr>\n",
       "      <th>8</th>\n",
       "      <td>3</td>\n",
       "      <td>Poor packaging great product I love this water...</td>\n",
       "      <td>43</td>\n",
       "      <td>9</td>\n",
       "      <td>0</td>\n",
       "      <td>6</td>\n",
       "    </tr>\n",
       "    <tr>\n",
       "      <th>9</th>\n",
       "      <td>5</td>\n",
       "      <td>nice product very good i like this product i o...</td>\n",
       "      <td>10</td>\n",
       "      <td>0</td>\n",
       "      <td>0</td>\n",
       "      <td>0</td>\n",
       "    </tr>\n",
       "    <tr>\n",
       "      <th>10</th>\n",
       "      <td>5</td>\n",
       "      <td>Soothes skin and aids in moisturizer applicati...</td>\n",
       "      <td>41</td>\n",
       "      <td>8</td>\n",
       "      <td>0</td>\n",
       "      <td>1</td>\n",
       "    </tr>\n",
       "    <tr>\n",
       "      <th>11</th>\n",
       "      <td>3</td>\n",
       "      <td>Not sure if it makes any difference on my skin...</td>\n",
       "      <td>20</td>\n",
       "      <td>6</td>\n",
       "      <td>0</td>\n",
       "      <td>1</td>\n",
       "    </tr>\n",
       "    <tr>\n",
       "      <th>12</th>\n",
       "      <td>3</td>\n",
       "      <td>Better spraying nozzle needed. The spraying pa...</td>\n",
       "      <td>14</td>\n",
       "      <td>4</td>\n",
       "      <td>0</td>\n",
       "      <td>1</td>\n",
       "    </tr>\n",
       "    <tr>\n",
       "      <th>13</th>\n",
       "      <td>5</td>\n",
       "      <td>Great product! Very good product! I’m so happy...</td>\n",
       "      <td>3</td>\n",
       "      <td>4</td>\n",
       "      <td>0</td>\n",
       "      <td>0</td>\n",
       "    </tr>\n",
       "    <tr>\n",
       "      <th>14</th>\n",
       "      <td>5</td>\n",
       "      <td>Nice Good for humid summer days, however I wan...</td>\n",
       "      <td>13</td>\n",
       "      <td>4</td>\n",
       "      <td>0</td>\n",
       "      <td>3</td>\n",
       "    </tr>\n",
       "    <tr>\n",
       "      <th>15</th>\n",
       "      <td>5</td>\n",
       "      <td>Vichy Thermal water spray Nice thermal water. ...</td>\n",
       "      <td>2</td>\n",
       "      <td>2</td>\n",
       "      <td>0</td>\n",
       "      <td>0</td>\n",
       "    </tr>\n",
       "    <tr>\n",
       "      <th>16</th>\n",
       "      <td>5</td>\n",
       "      <td>great for sensitive skin Great to prep skin an...</td>\n",
       "      <td>4</td>\n",
       "      <td>0</td>\n",
       "      <td>0</td>\n",
       "      <td>0</td>\n",
       "    </tr>\n",
       "    <tr>\n",
       "      <th>17</th>\n",
       "      <td>5</td>\n",
       "      <td>Skin looking fresh and glowing ! This is life ...</td>\n",
       "      <td>15</td>\n",
       "      <td>11</td>\n",
       "      <td>0</td>\n",
       "      <td>2</td>\n",
       "    </tr>\n",
       "    <tr>\n",
       "      <th>18</th>\n",
       "      <td>5</td>\n",
       "      <td>Good Good product</td>\n",
       "      <td>0</td>\n",
       "      <td>0</td>\n",
       "      <td>0</td>\n",
       "      <td>0</td>\n",
       "    </tr>\n",
       "    <tr>\n",
       "      <th>19</th>\n",
       "      <td>5</td>\n",
       "      <td>good good</td>\n",
       "      <td>0</td>\n",
       "      <td>0</td>\n",
       "      <td>0</td>\n",
       "      <td>0</td>\n",
       "    </tr>\n",
       "    <tr>\n",
       "      <th>20</th>\n",
       "      <td>5</td>\n",
       "      <td>Must have item I can’t live without my mist. E...</td>\n",
       "      <td>3</td>\n",
       "      <td>2</td>\n",
       "      <td>0</td>\n",
       "      <td>1</td>\n",
       "    </tr>\n",
       "    <tr>\n",
       "      <th>21</th>\n",
       "      <td>3</td>\n",
       "      <td>Not as I expected The spray doesn’t spread smo...</td>\n",
       "      <td>1</td>\n",
       "      <td>1</td>\n",
       "      <td>0</td>\n",
       "      <td>1</td>\n",
       "    </tr>\n",
       "    <tr>\n",
       "      <th>22</th>\n",
       "      <td>5</td>\n",
       "      <td>A nice thing to have in summer Love it, very r...</td>\n",
       "      <td>4</td>\n",
       "      <td>1</td>\n",
       "      <td>0</td>\n",
       "      <td>1</td>\n",
       "    </tr>\n",
       "    <tr>\n",
       "      <th>23</th>\n",
       "      <td>5</td>\n",
       "      <td>Useful My wife very liked.</td>\n",
       "      <td>1</td>\n",
       "      <td>1</td>\n",
       "      <td>0</td>\n",
       "      <td>0</td>\n",
       "    </tr>\n",
       "    <tr>\n",
       "      <th>24</th>\n",
       "      <td>5</td>\n",
       "      <td>Refreshing misty water To my surprise I though...</td>\n",
       "      <td>10</td>\n",
       "      <td>3</td>\n",
       "      <td>0</td>\n",
       "      <td>3</td>\n",
       "    </tr>\n",
       "    <tr>\n",
       "      <th>25</th>\n",
       "      <td>5</td>\n",
       "      <td>Love it ! Very refreshing !</td>\n",
       "      <td>1</td>\n",
       "      <td>2</td>\n",
       "      <td>0</td>\n",
       "      <td>0</td>\n",
       "    </tr>\n",
       "    <tr>\n",
       "      <th>26</th>\n",
       "      <td>2</td>\n",
       "      <td>container this product would've been a five st...</td>\n",
       "      <td>23</td>\n",
       "      <td>4</td>\n",
       "      <td>0</td>\n",
       "      <td>0</td>\n",
       "    </tr>\n",
       "    <tr>\n",
       "      <th>27</th>\n",
       "      <td>5</td>\n",
       "      <td>Very cool and refreshing Very refreshing espec...</td>\n",
       "      <td>12</td>\n",
       "      <td>2</td>\n",
       "      <td>0</td>\n",
       "      <td>1</td>\n",
       "    </tr>\n",
       "    <tr>\n",
       "      <th>28</th>\n",
       "      <td>5</td>\n",
       "      <td>Very good ! I Love this product!</td>\n",
       "      <td>1</td>\n",
       "      <td>2</td>\n",
       "      <td>0</td>\n",
       "      <td>1</td>\n",
       "    </tr>\n",
       "    <tr>\n",
       "      <th>29</th>\n",
       "      <td>1</td>\n",
       "      <td>dispenser does not work. bottle was a dud!  no...</td>\n",
       "      <td>8</td>\n",
       "      <td>4</td>\n",
       "      <td>0</td>\n",
       "      <td>0</td>\n",
       "    </tr>\n",
       "    <tr>\n",
       "      <th>30</th>\n",
       "      <td>5</td>\n",
       "      <td>Use this in place of tap water before serums I...</td>\n",
       "      <td>28</td>\n",
       "      <td>5</td>\n",
       "      <td>1</td>\n",
       "      <td>4</td>\n",
       "    </tr>\n",
       "    <tr>\n",
       "      <th>31</th>\n",
       "      <td>5</td>\n",
       "      <td>Very nice No perfume, my skin feels fresh and ...</td>\n",
       "      <td>4</td>\n",
       "      <td>1</td>\n",
       "      <td>0</td>\n",
       "      <td>0</td>\n",
       "    </tr>\n",
       "    <tr>\n",
       "      <th>32</th>\n",
       "      <td>5</td>\n",
       "      <td>Only water (hydra spray) Ive found w/Safe ingr...</td>\n",
       "      <td>45</td>\n",
       "      <td>11</td>\n",
       "      <td>0</td>\n",
       "      <td>2</td>\n",
       "    </tr>\n",
       "    <tr>\n",
       "      <th>33</th>\n",
       "      <td>5</td>\n",
       "      <td>Perfect Refresh face</td>\n",
       "      <td>0</td>\n",
       "      <td>0</td>\n",
       "      <td>0</td>\n",
       "      <td>0</td>\n",
       "    </tr>\n",
       "    <tr>\n",
       "      <th>34</th>\n",
       "      <td>5</td>\n",
       "      <td>I like Vichy products and I will definitely re...</td>\n",
       "      <td>9</td>\n",
       "      <td>4</td>\n",
       "      <td>0</td>\n",
       "      <td>4</td>\n",
       "    </tr>\n",
       "    <tr>\n",
       "      <th>35</th>\n",
       "      <td>5</td>\n",
       "      <td>Cool and fresh Vichy mineralizing Thermal wate...</td>\n",
       "      <td>20</td>\n",
       "      <td>6</td>\n",
       "      <td>1</td>\n",
       "      <td>0</td>\n",
       "    </tr>\n",
       "    <tr>\n",
       "      <th>36</th>\n",
       "      <td>5</td>\n",
       "      <td>Dry skin fortifier Very useful for hydrating d...</td>\n",
       "      <td>9</td>\n",
       "      <td>6</td>\n",
       "      <td>0</td>\n",
       "      <td>0</td>\n",
       "    </tr>\n",
       "    <tr>\n",
       "      <th>37</th>\n",
       "      <td>5</td>\n",
       "      <td>Five Stars Nice &amp; refreshing</td>\n",
       "      <td>0</td>\n",
       "      <td>1</td>\n",
       "      <td>0</td>\n",
       "      <td>0</td>\n",
       "    </tr>\n",
       "    <tr>\n",
       "      <th>38</th>\n",
       "      <td>5</td>\n",
       "      <td>Five Stars Very good product,thanks a lot</td>\n",
       "      <td>1</td>\n",
       "      <td>1</td>\n",
       "      <td>0</td>\n",
       "      <td>0</td>\n",
       "    </tr>\n",
       "    <tr>\n",
       "      <th>39</th>\n",
       "      <td>5</td>\n",
       "      <td>Five Stars Really good service with fast deliv...</td>\n",
       "      <td>7</td>\n",
       "      <td>2</td>\n",
       "      <td>0</td>\n",
       "      <td>0</td>\n",
       "    </tr>\n",
       "    <tr>\n",
       "      <th>40</th>\n",
       "      <td>5</td>\n",
       "      <td>Good value Refreshing every time</td>\n",
       "      <td>0</td>\n",
       "      <td>0</td>\n",
       "      <td>0</td>\n",
       "      <td>0</td>\n",
       "    </tr>\n",
       "    <tr>\n",
       "      <th>41</th>\n",
       "      <td>5</td>\n",
       "      <td>loved it loved it</td>\n",
       "      <td>2</td>\n",
       "      <td>0</td>\n",
       "      <td>0</td>\n",
       "      <td>0</td>\n",
       "    </tr>\n",
       "    <tr>\n",
       "      <th>42</th>\n",
       "      <td>1</td>\n",
       "      <td>Defective sprayers Stopped spraying correctly ...</td>\n",
       "      <td>16</td>\n",
       "      <td>5</td>\n",
       "      <td>0</td>\n",
       "      <td>0</td>\n",
       "    </tr>\n",
       "    <tr>\n",
       "      <th>43</th>\n",
       "      <td>5</td>\n",
       "      <td>Good product It’s the same in the picture</td>\n",
       "      <td>4</td>\n",
       "      <td>0</td>\n",
       "      <td>0</td>\n",
       "      <td>0</td>\n",
       "    </tr>\n",
       "    <tr>\n",
       "      <th>44</th>\n",
       "      <td>5</td>\n",
       "      <td>Very refreshing I keep this bottle by my night...</td>\n",
       "      <td>11</td>\n",
       "      <td>2</td>\n",
       "      <td>0</td>\n",
       "      <td>1</td>\n",
       "    </tr>\n",
       "    <tr>\n",
       "      <th>45</th>\n",
       "      <td>5</td>\n",
       "      <td>Oh so good This is water, but fresh water, but...</td>\n",
       "      <td>7</td>\n",
       "      <td>4</td>\n",
       "      <td>0</td>\n",
       "      <td>0</td>\n",
       "    </tr>\n",
       "    <tr>\n",
       "      <th>46</th>\n",
       "      <td>5</td>\n",
       "      <td>It’s very good product It’s a very good product</td>\n",
       "      <td>3</td>\n",
       "      <td>0</td>\n",
       "      <td>0</td>\n",
       "      <td>0</td>\n",
       "    </tr>\n",
       "    <tr>\n",
       "      <th>47</th>\n",
       "      <td>5</td>\n",
       "      <td>Great for hot flashes or hot days   a game cha...</td>\n",
       "      <td>31</td>\n",
       "      <td>6</td>\n",
       "      <td>0</td>\n",
       "      <td>3</td>\n",
       "    </tr>\n",
       "    <tr>\n",
       "      <th>48</th>\n",
       "      <td>3</td>\n",
       "      <td>Refreshes skin Refreshes the skin, but I’m not...</td>\n",
       "      <td>4</td>\n",
       "      <td>2</td>\n",
       "      <td>0</td>\n",
       "      <td>0</td>\n",
       "    </tr>\n",
       "    <tr>\n",
       "      <th>49</th>\n",
       "      <td>5</td>\n",
       "      <td>French mineral water, the best. This is such a...</td>\n",
       "      <td>19</td>\n",
       "      <td>8</td>\n",
       "      <td>0</td>\n",
       "      <td>1</td>\n",
       "    </tr>\n",
       "  </tbody>\n",
       "</table>\n",
       "</div>"
      ],
      "text/plain": [
       "    Stars                                               Text  stopwords  \\\n",
       "0       1  Great product but cheap packing Half bottle an...          3   \n",
       "1       5                                 I loved it Love it          2   \n",
       "2       5   excellent water, the face after it is fresh Good          4   \n",
       "3       4  Good thermal water spray Great for extra moist...          1   \n",
       "4       5  great size for bag thermal water is perfect fo...          8   \n",
       "5       5  NICE MINERAL WATER SPRA, LOVE ITY MY FACE IN T...          0   \n",
       "6       1  Spray defective waste the product Spray got pl...          9   \n",
       "7       1  Thermal water I bought this product to use as ...         11   \n",
       "8       3  Poor packaging great product I love this water...         43   \n",
       "9       5  nice product very good i like this product i o...         10   \n",
       "10      5  Soothes skin and aids in moisturizer applicati...         41   \n",
       "11      3  Not sure if it makes any difference on my skin...         20   \n",
       "12      3  Better spraying nozzle needed. The spraying pa...         14   \n",
       "13      5  Great product! Very good product! I’m so happy...          3   \n",
       "14      5  Nice Good for humid summer days, however I wan...         13   \n",
       "15      5  Vichy Thermal water spray Nice thermal water. ...          2   \n",
       "16      5  great for sensitive skin Great to prep skin an...          4   \n",
       "17      5  Skin looking fresh and glowing ! This is life ...         15   \n",
       "18      5                                  Good Good product          0   \n",
       "19      5                                          good good          0   \n",
       "20      5  Must have item I can’t live without my mist. E...          3   \n",
       "21      3  Not as I expected The spray doesn’t spread smo...          1   \n",
       "22      5  A nice thing to have in summer Love it, very r...          4   \n",
       "23      5                         Useful My wife very liked.          1   \n",
       "24      5  Refreshing misty water To my surprise I though...         10   \n",
       "25      5                        Love it ! Very refreshing !          1   \n",
       "26      2  container this product would've been a five st...         23   \n",
       "27      5  Very cool and refreshing Very refreshing espec...         12   \n",
       "28      5                   Very good ! I Love this product!          1   \n",
       "29      1  dispenser does not work. bottle was a dud!  no...          8   \n",
       "30      5  Use this in place of tap water before serums I...         28   \n",
       "31      5  Very nice No perfume, my skin feels fresh and ...          4   \n",
       "32      5  Only water (hydra spray) Ive found w/Safe ingr...         45   \n",
       "33      5                               Perfect Refresh face          0   \n",
       "34      5  I like Vichy products and I will definitely re...          9   \n",
       "35      5  Cool and fresh Vichy mineralizing Thermal wate...         20   \n",
       "36      5  Dry skin fortifier Very useful for hydrating d...          9   \n",
       "37      5                       Five Stars Nice & refreshing          0   \n",
       "38      5          Five Stars Very good product,thanks a lot          1   \n",
       "39      5  Five Stars Really good service with fast deliv...          7   \n",
       "40      5                   Good value Refreshing every time          0   \n",
       "41      5                                  loved it loved it          2   \n",
       "42      1  Defective sprayers Stopped spraying correctly ...         16   \n",
       "43      5          Good product It’s the same in the picture          4   \n",
       "44      5  Very refreshing I keep this bottle by my night...         11   \n",
       "45      5  Oh so good This is water, but fresh water, but...          7   \n",
       "46      5    It’s very good product It’s a very good product          3   \n",
       "47      5  Great for hot flashes or hot days   a game cha...         31   \n",
       "48      3  Refreshes skin Refreshes the skin, but I’m not...          4   \n",
       "49      5  French mineral water, the best. This is such a...         19   \n",
       "\n",
       "    punctuation  numerics  upper  \n",
       "0             1         0      0  \n",
       "1             0         0      1  \n",
       "2             1         0      0  \n",
       "3             1         0      0  \n",
       "4             0         0      0  \n",
       "5             1         0     22  \n",
       "6             2         0      0  \n",
       "7             3         0      2  \n",
       "8             9         0      6  \n",
       "9             0         0      0  \n",
       "10            8         0      1  \n",
       "11            6         0      1  \n",
       "12            4         0      1  \n",
       "13            4         0      0  \n",
       "14            4         0      3  \n",
       "15            2         0      0  \n",
       "16            0         0      0  \n",
       "17           11         0      2  \n",
       "18            0         0      0  \n",
       "19            0         0      0  \n",
       "20            2         0      1  \n",
       "21            1         0      1  \n",
       "22            1         0      1  \n",
       "23            1         0      0  \n",
       "24            3         0      3  \n",
       "25            2         0      0  \n",
       "26            4         0      0  \n",
       "27            2         0      1  \n",
       "28            2         0      1  \n",
       "29            4         0      0  \n",
       "30            5         1      4  \n",
       "31            1         0      0  \n",
       "32           11         0      2  \n",
       "33            0         0      0  \n",
       "34            4         0      4  \n",
       "35            6         1      0  \n",
       "36            6         0      0  \n",
       "37            1         0      0  \n",
       "38            1         0      0  \n",
       "39            2         0      0  \n",
       "40            0         0      0  \n",
       "41            0         0      0  \n",
       "42            5         0      0  \n",
       "43            0         0      0  \n",
       "44            2         0      1  \n",
       "45            4         0      0  \n",
       "46            0         0      0  \n",
       "47            6         0      3  \n",
       "48            2         0      0  \n",
       "49            8         0      1  "
      ]
     },
     "execution_count": 24,
     "metadata": {},
     "output_type": "execute_result"
    }
   ],
   "source": [
    "df.head(50)"
   ]
  },
  {
   "cell_type": "markdown",
   "id": "72b0fd4d",
   "metadata": {},
   "source": [
    "# Deep cleaning"
   ]
  },
  {
   "cell_type": "markdown",
   "id": "3e35b735",
   "metadata": {},
   "source": [
    "## All Text to lowercase"
   ]
  },
  {
   "cell_type": "code",
   "execution_count": 25,
   "id": "817416fc",
   "metadata": {},
   "outputs": [],
   "source": [
    "df['Text'] = df['Text'].apply(lambda x: \" \".join(x.lower() for x in x.split()))\n"
   ]
  },
  {
   "cell_type": "markdown",
   "id": "09dfb46c",
   "metadata": {},
   "source": [
    "# Removing Numerical Characters"
   ]
  },
  {
   "cell_type": "code",
   "execution_count": 26,
   "id": "896d6068",
   "metadata": {},
   "outputs": [],
   "source": [
    "df['Text'] = df['Text'].apply(lambda x:''.join([i for i in x if not i.isdigit()]))"
   ]
  },
  {
   "cell_type": "markdown",
   "id": "76ea6ebe",
   "metadata": {},
   "source": [
    "## Removing Punctuation"
   ]
  },
  {
   "cell_type": "code",
   "execution_count": 27,
   "id": "17e7979e",
   "metadata": {},
   "outputs": [
    {
     "data": {
      "text/plain": [
       "0    great product but cheap packing half bottle an...\n",
       "1                                   i loved it love it\n",
       "2      excellent water the face after it is fresh good\n",
       "3    good thermal water spray great for extra moisture\n",
       "4    great size for bag thermal water is perfect fo...\n",
       "Name: Text, dtype: object"
      ]
     },
     "execution_count": 27,
     "metadata": {},
     "output_type": "execute_result"
    }
   ],
   "source": [
    "df['Text'] = df['Text'].str.replace('[^\\w\\s]','')\n",
    "df['Text'].head()"
   ]
  },
  {
   "cell_type": "markdown",
   "id": "f7472299",
   "metadata": {},
   "source": [
    "## Removing Stopwords"
   ]
  },
  {
   "cell_type": "code",
   "execution_count": 28,
   "id": "4315f613",
   "metadata": {},
   "outputs": [],
   "source": [
    "df['Text'] = df['Text'].apply(lambda x: \" \".join(x for x in x.split() if x not in stop))"
   ]
  },
  {
   "cell_type": "code",
   "execution_count": 29,
   "id": "1e3295e8",
   "metadata": {},
   "outputs": [
    {
     "data": {
      "text/plain": [
       "product        41\n",
       "love           36\n",
       "water          36\n",
       "good           36\n",
       "face           34\n",
       "skin           32\n",
       "spray          26\n",
       "use            23\n",
       "stars          18\n",
       "refreshing     18\n",
       "great          17\n",
       "thermal        13\n",
       "hot            13\n",
       "vichy          12\n",
       "better         12\n",
       "five           12\n",
       "day            12\n",
       "nice           11\n",
       "feels          11\n",
       "dry            11\n",
       "used           11\n",
       "recommend      11\n",
       "moisturizer    10\n",
       "using          10\n",
       "get            10\n",
       "fresh           9\n",
       "bottle          9\n",
       "really          9\n",
       "make            9\n",
       "like            9\n",
       "time            8\n",
       "dont            7\n",
       "days            7\n",
       "container       7\n",
       "spraying        7\n",
       "doesnt          7\n",
       "sprays          6\n",
       "products        6\n",
       "one             6\n",
       "makeup          6\n",
       "every           6\n",
       "ive             6\n",
       "makes           5\n",
       "summer          5\n",
       "without         5\n",
       "sensitive       5\n",
       "applying        5\n",
       "avene           5\n",
       "helps           5\n",
       "much            5\n",
       "dtype: int64"
      ]
     },
     "execution_count": 29,
     "metadata": {},
     "output_type": "execute_result"
    }
   ],
   "source": [
    "\n",
    "#most frequents words\n",
    "freq = pd.Series(' '.join(df['Text']).split()).value_counts()[:50]\n",
    "freq"
   ]
  },
  {
   "cell_type": "code",
   "execution_count": 30,
   "id": "6ce2c756",
   "metadata": {},
   "outputs": [],
   "source": [
    "# Adding common words from our document to stop_words\n",
    "add_words = [\"also\",\"dont\",\"upon\",\"ll\",\"ml\",\"oz\",\"in\",\"products\",\"product\",\"use\"]\n",
    "stop_words = set(stopwords.words(\"english\"))\n",
    "stop_added = stop_words.union(add_words)\n",
    "df['Text'] = df['Text'].apply(lambda x: \" \".join(x for x in x.split() if x not in stop_added))\n"
   ]
  },
  {
   "cell_type": "markdown",
   "id": "11caa6ad",
   "metadata": {},
   "source": [
    "# Spell Correction"
   ]
  },
  {
   "cell_type": "code",
   "execution_count": 31,
   "id": "9b9da833",
   "metadata": {},
   "outputs": [],
   "source": [
    "\n",
    "df['Text']=df['Text'].apply(lambda x: str(TextBlob(x).correct()))\n"
   ]
  },
  {
   "cell_type": "markdown",
   "id": "a8390e20",
   "metadata": {},
   "source": [
    "## Lemmatization"
   ]
  },
  {
   "cell_type": "code",
   "execution_count": 32,
   "id": "c8f5ab8f",
   "metadata": {},
   "outputs": [],
   "source": [
    "def get_wordnet_pos(word):\n",
    "    \"\"\"Map POS tag to first character lemmatize() accepts\"\"\"\n",
    "    tag = nltk.pos_tag([word])[0][1][0].upper()\n",
    "    tag_dict = {\"J\": wordnet.ADJ,\n",
    "                \"N\": wordnet.NOUN,\n",
    "                \"V\": wordnet.VERB,\n",
    "                \"R\": wordnet.ADV}\n",
    "\n",
    "    return tag_dict.get(tag, wordnet.NOUN)\n",
    "\n",
    "lemmatizer = WordNetLemmatizer()"
   ]
  },
  {
   "cell_type": "code",
   "execution_count": 33,
   "id": "7e22cbf2",
   "metadata": {},
   "outputs": [],
   "source": [
    "# Init the Wordnet Lemmatizer\n",
    "\n",
    "values_list=[]\n",
    "\n",
    "for i in range(0,len(df['Text'])):\n",
    "    sentence=df['Text'].iloc[i]\n",
    "    values=[]\n",
    "    phrase=''\n",
    "    for w in nltk.word_tokenize(sentence):\n",
    "        value=lemmatizer.lemmatize(w, get_wordnet_pos(w))\n",
    "        phrase=phrase+\" \"+value\n",
    "    values_list.append(phrase)\n",
    "\n",
    "df['Text']=values_list"
   ]
  },
  {
   "cell_type": "code",
   "execution_count": 34,
   "id": "fd3a7c07",
   "metadata": {},
   "outputs": [
    {
     "data": {
      "text/plain": [
       "0              great cheap pack half bottle spray broke\n",
       "1                                             love love\n",
       "2                       excellent water face fresh good\n",
       "3         good thermal water spray great extra moisture\n",
       "4      great size bag thermal water perfect everyday...\n",
       "                            ...                        \n",
       "95     let car get hot effect love make face hydrate...\n",
       "96                               overprice market price\n",
       "97     one definitely well actually must can live wi...\n",
       "98     rich vow always love want sure get india star...\n",
       "99     much ok water use whole thing well jacob oil ...\n",
       "Name: Text, Length: 100, dtype: object"
      ]
     },
     "execution_count": 34,
     "metadata": {},
     "output_type": "execute_result"
    }
   ],
   "source": [
    "df['Text']"
   ]
  },
  {
   "cell_type": "code",
   "execution_count": 35,
   "id": "359f1d24",
   "metadata": {},
   "outputs": [
    {
     "data": {
      "text/plain": [
       "array([42, 39, 37, 36, 35, 34, 27, 22, 22, 20, 20, 20, 17, 16, 16, 13, 13,\n",
       "       13, 13, 12, 12, 11, 11, 11, 10, 10, 10,  9,  9,  9,  8,  8,  8,  7,\n",
       "        7,  7,  6,  6,  6,  6,  6,  6,  5,  5,  5,  5,  5,  5,  5,  5])"
      ]
     },
     "execution_count": 35,
     "metadata": {},
     "output_type": "execute_result"
    }
   ],
   "source": [
    "freq = pd.Series(' '.join(df['Text']).split())\n",
    "resultsfreq=pd.DataFrame()\n",
    "resultsfreq=freq.value_counts()[:50]\n",
    "resultsfreq.values"
   ]
  },
  {
   "cell_type": "markdown",
   "id": "0ae4b372",
   "metadata": {},
   "source": [
    "# After Cleaning Features"
   ]
  },
  {
   "cell_type": "markdown",
   "id": "23c402ce",
   "metadata": {},
   "source": [
    "## Number of words"
   ]
  },
  {
   "cell_type": "code",
   "execution_count": 36,
   "id": "ee3913d5",
   "metadata": {},
   "outputs": [
    {
     "data": {
      "text/html": [
       "<div>\n",
       "<style scoped>\n",
       "    .dataframe tbody tr th:only-of-type {\n",
       "        vertical-align: middle;\n",
       "    }\n",
       "\n",
       "    .dataframe tbody tr th {\n",
       "        vertical-align: top;\n",
       "    }\n",
       "\n",
       "    .dataframe thead th {\n",
       "        text-align: right;\n",
       "    }\n",
       "</style>\n",
       "<table border=\"1\" class=\"dataframe\">\n",
       "  <thead>\n",
       "    <tr style=\"text-align: right;\">\n",
       "      <th></th>\n",
       "      <th>Text</th>\n",
       "      <th>word_count</th>\n",
       "    </tr>\n",
       "  </thead>\n",
       "  <tbody>\n",
       "    <tr>\n",
       "      <th>0</th>\n",
       "      <td>great cheap pack half bottle spray broke</td>\n",
       "      <td>8</td>\n",
       "    </tr>\n",
       "    <tr>\n",
       "      <th>1</th>\n",
       "      <td>love love</td>\n",
       "      <td>3</td>\n",
       "    </tr>\n",
       "    <tr>\n",
       "      <th>2</th>\n",
       "      <td>excellent water face fresh good</td>\n",
       "      <td>6</td>\n",
       "    </tr>\n",
       "    <tr>\n",
       "      <th>3</th>\n",
       "      <td>good thermal water spray great extra moisture</td>\n",
       "      <td>8</td>\n",
       "    </tr>\n",
       "    <tr>\n",
       "      <th>4</th>\n",
       "      <td>great size bag thermal water perfect everyday...</td>\n",
       "      <td>12</td>\n",
       "    </tr>\n",
       "  </tbody>\n",
       "</table>\n",
       "</div>"
      ],
      "text/plain": [
       "                                                Text  word_count\n",
       "0           great cheap pack half bottle spray broke           8\n",
       "1                                          love love           3\n",
       "2                    excellent water face fresh good           6\n",
       "3      good thermal water spray great extra moisture           8\n",
       "4   great size bag thermal water perfect everyday...          12"
      ]
     },
     "execution_count": 36,
     "metadata": {},
     "output_type": "execute_result"
    }
   ],
   "source": [
    "df['word_count'] = df['Text'].apply(lambda x: len(str(x).split(\" \")))\n",
    "df[['Text','word_count']].head()"
   ]
  },
  {
   "cell_type": "markdown",
   "id": "4083d998",
   "metadata": {},
   "source": [
    "# Number of Characters"
   ]
  },
  {
   "cell_type": "code",
   "execution_count": 37,
   "id": "51c9a762",
   "metadata": {},
   "outputs": [
    {
     "data": {
      "text/html": [
       "<div>\n",
       "<style scoped>\n",
       "    .dataframe tbody tr th:only-of-type {\n",
       "        vertical-align: middle;\n",
       "    }\n",
       "\n",
       "    .dataframe tbody tr th {\n",
       "        vertical-align: top;\n",
       "    }\n",
       "\n",
       "    .dataframe thead th {\n",
       "        text-align: right;\n",
       "    }\n",
       "</style>\n",
       "<table border=\"1\" class=\"dataframe\">\n",
       "  <thead>\n",
       "    <tr style=\"text-align: right;\">\n",
       "      <th></th>\n",
       "      <th>Text</th>\n",
       "      <th>char_count</th>\n",
       "    </tr>\n",
       "  </thead>\n",
       "  <tbody>\n",
       "    <tr>\n",
       "      <th>0</th>\n",
       "      <td>great cheap pack half bottle spray broke</td>\n",
       "      <td>41</td>\n",
       "    </tr>\n",
       "    <tr>\n",
       "      <th>1</th>\n",
       "      <td>love love</td>\n",
       "      <td>10</td>\n",
       "    </tr>\n",
       "    <tr>\n",
       "      <th>2</th>\n",
       "      <td>excellent water face fresh good</td>\n",
       "      <td>32</td>\n",
       "    </tr>\n",
       "    <tr>\n",
       "      <th>3</th>\n",
       "      <td>good thermal water spray great extra moisture</td>\n",
       "      <td>46</td>\n",
       "    </tr>\n",
       "    <tr>\n",
       "      <th>4</th>\n",
       "      <td>great size bag thermal water perfect everyday...</td>\n",
       "      <td>70</td>\n",
       "    </tr>\n",
       "  </tbody>\n",
       "</table>\n",
       "</div>"
      ],
      "text/plain": [
       "                                                Text  char_count\n",
       "0           great cheap pack half bottle spray broke          41\n",
       "1                                          love love          10\n",
       "2                    excellent water face fresh good          32\n",
       "3      good thermal water spray great extra moisture          46\n",
       "4   great size bag thermal water perfect everyday...          70"
      ]
     },
     "execution_count": 37,
     "metadata": {},
     "output_type": "execute_result"
    }
   ],
   "source": [
    "df['char_count'] = df['Text'].str.len() ## this also includes spaces\n",
    "df[['Text','char_count']].head()"
   ]
  },
  {
   "cell_type": "markdown",
   "id": "37e72bbe",
   "metadata": {},
   "source": [
    "## Average Word Length"
   ]
  },
  {
   "cell_type": "code",
   "execution_count": 38,
   "id": "eeba27c7",
   "metadata": {},
   "outputs": [
    {
     "data": {
      "text/html": [
       "<div>\n",
       "<style scoped>\n",
       "    .dataframe tbody tr th:only-of-type {\n",
       "        vertical-align: middle;\n",
       "    }\n",
       "\n",
       "    .dataframe tbody tr th {\n",
       "        vertical-align: top;\n",
       "    }\n",
       "\n",
       "    .dataframe thead th {\n",
       "        text-align: right;\n",
       "    }\n",
       "</style>\n",
       "<table border=\"1\" class=\"dataframe\">\n",
       "  <thead>\n",
       "    <tr style=\"text-align: right;\">\n",
       "      <th></th>\n",
       "      <th>Text</th>\n",
       "      <th>avg_word</th>\n",
       "    </tr>\n",
       "  </thead>\n",
       "  <tbody>\n",
       "    <tr>\n",
       "      <th>0</th>\n",
       "      <td>great cheap pack half bottle spray broke</td>\n",
       "      <td>4.9</td>\n",
       "    </tr>\n",
       "    <tr>\n",
       "      <th>1</th>\n",
       "      <td>love love</td>\n",
       "      <td>4.0</td>\n",
       "    </tr>\n",
       "    <tr>\n",
       "      <th>2</th>\n",
       "      <td>excellent water face fresh good</td>\n",
       "      <td>5.4</td>\n",
       "    </tr>\n",
       "    <tr>\n",
       "      <th>3</th>\n",
       "      <td>good thermal water spray great extra moisture</td>\n",
       "      <td>5.6</td>\n",
       "    </tr>\n",
       "    <tr>\n",
       "      <th>4</th>\n",
       "      <td>great size bag thermal water perfect everyday...</td>\n",
       "      <td>5.4</td>\n",
       "    </tr>\n",
       "  </tbody>\n",
       "</table>\n",
       "</div>"
      ],
      "text/plain": [
       "                                                Text  avg_word\n",
       "0           great cheap pack half bottle spray broke       4.9\n",
       "1                                          love love       4.0\n",
       "2                    excellent water face fresh good       5.4\n",
       "3      good thermal water spray great extra moisture       5.6\n",
       "4   great size bag thermal water perfect everyday...       5.4"
      ]
     },
     "execution_count": 38,
     "metadata": {},
     "output_type": "execute_result"
    }
   ],
   "source": [
    "def avg_word(sentence):\n",
    "    words = sentence.split()\n",
    "    return (sum(len(word) for word in words)/(len(words)+0.000001))\n",
    "df['avg_word'] = df['Text'].apply(lambda x: avg_word(x)).round(1)\n",
    "df[['Text','avg_word']].head()"
   ]
  },
  {
   "cell_type": "markdown",
   "id": "e119a36b",
   "metadata": {},
   "source": [
    "# Sentiment Analysis"
   ]
  },
  {
   "cell_type": "markdown",
   "id": "7e8f6c89",
   "metadata": {},
   "source": [
    "# Polarity"
   ]
  },
  {
   "cell_type": "code",
   "execution_count": 39,
   "id": "c3eb13a4",
   "metadata": {},
   "outputs": [
    {
     "data": {
      "image/png": "[encoded data removed]",
      "text/plain": [
       "<Figure size 720x432 with 1 Axes>"
      ]
     },
     "metadata": {
      "needs_background": "light"
     },
     "output_type": "display_data"
    }
   ],
   "source": [
    "# Create quick lambda functions to find the polarity of each review\n",
    "# Terminal / Anaconda Navigator: conda install -c conda-forge textblobfrom textblob import TextBlob\n",
    "df['Text']= df['Text'].astype(str) #Make sure about the correct data type\n",
    "pol = lambda x: TextBlob(x).sentiment.polarity\n",
    "df['polarity'] = df['Text'].apply(pol) # depending on the size of your data, this step may take some time.\n",
    "import matplotlib.pyplot as plt\n",
    "import seaborn as sns\n",
    "num_bins = 50\n",
    "plt.figure(figsize=(10,6))\n",
    "n, bins, patches = plt.hist(df.polarity, num_bins, facecolor='blue', alpha=0.5)\n",
    "plt.xlabel('Polarity')\n",
    "plt.ylabel('Number of Reviews')\n",
    "plt.title('Histogram of Polarity Score')\n",
    "plt.show()"
   ]
  },
  {
   "cell_type": "markdown",
   "id": "fc3b0932",
   "metadata": {},
   "source": [
    "# Polarity Good/Bad Reviews"
   ]
  },
  {
   "cell_type": "code",
   "execution_count": 40,
   "id": "3231e49d",
   "metadata": {},
   "outputs": [
    {
     "data": {
      "text/plain": [
       "0.700000    11\n",
       "0.500000     8\n",
       "0.600000     6\n",
       "0.000000     5\n",
       "0.533333     2\n",
       "            ..\n",
       "0.437500     1\n",
       "0.138889     1\n",
       "0.295000     1\n",
       "0.440000     1\n",
       "0.344444     1\n",
       "Name: polarity, Length: 66, dtype: int64"
      ]
     },
     "execution_count": 40,
     "metadata": {},
     "output_type": "execute_result"
    }
   ],
   "source": [
    "df['polarity'].value_counts()"
   ]
  },
  {
   "cell_type": "markdown",
   "id": "beffdccf",
   "metadata": {},
   "source": [
    "# Stars and Polarity"
   ]
  },
  {
   "cell_type": "code",
   "execution_count": 41,
   "id": "6c66b9fb",
   "metadata": {},
   "outputs": [
    {
     "name": "stdout",
     "output_type": "stream",
     "text": [
      "Requirement already satisfied: streamlit-echarts in /Users/anak/opt/anaconda3/lib/python3.8/site-packages (0.4.0)\n",
      "Requirement already satisfied: streamlit>=0.63 in /Users/anak/opt/anaconda3/lib/python3.8/site-packages (from streamlit-echarts) (1.5.0)\n",
      "Requirement already satisfied: simplejson>=3.0 in /Users/anak/opt/anaconda3/lib/python3.8/site-packages (from streamlit-echarts) (3.17.6)\n",
      "Requirement already satisfied: pyecharts>=1.9 in /Users/anak/opt/anaconda3/lib/python3.8/site-packages (from streamlit-echarts) (1.9.1)\n",
      "Requirement already satisfied: jinja2 in /Users/anak/opt/anaconda3/lib/python3.8/site-packages (from pyecharts>=1.9->streamlit-echarts) (2.11.3)\n",
      "Requirement already satisfied: prettytable in /Users/anak/opt/anaconda3/lib/python3.8/site-packages (from pyecharts>=1.9->streamlit-echarts) (3.0.0)\n",
      "Requirement already satisfied: pyarrow in /Users/anak/opt/anaconda3/lib/python3.8/site-packages (from streamlit>=0.63->streamlit-echarts) (6.0.1)\n",
      "Requirement already satisfied: pillow>=6.2.0 in /Users/anak/opt/anaconda3/lib/python3.8/site-packages (from streamlit>=0.63->streamlit-echarts) (8.2.0)\n",
      "Requirement already satisfied: tzlocal in /Users/anak/opt/anaconda3/lib/python3.8/site-packages (from streamlit>=0.63->streamlit-echarts) (4.1)\n",
      "Requirement already satisfied: pydeck>=0.1.dev5 in /Users/anak/opt/anaconda3/lib/python3.8/site-packages (from streamlit>=0.63->streamlit-echarts) (0.7.1)\n",
      "Requirement already satisfied: validators in /Users/anak/opt/anaconda3/lib/python3.8/site-packages (from streamlit>=0.63->streamlit-echarts) (0.18.2)\n",
      "Requirement already satisfied: requests in /Users/anak/opt/anaconda3/lib/python3.8/site-packages (from streamlit>=0.63->streamlit-echarts) (2.27.1)\n",
      "Requirement already satisfied: attrs in /Users/anak/opt/anaconda3/lib/python3.8/site-packages (from streamlit>=0.63->streamlit-echarts) (20.3.0)\n",
      "Requirement already satisfied: numpy in /Users/anak/opt/anaconda3/lib/python3.8/site-packages (from streamlit>=0.63->streamlit-echarts) (1.20.0)\n",
      "Requirement already satisfied: base58 in /Users/anak/opt/anaconda3/lib/python3.8/site-packages (from streamlit>=0.63->streamlit-echarts) (2.1.1)\n",
      "Requirement already satisfied: gitpython!=3.1.19 in /Users/anak/opt/anaconda3/lib/python3.8/site-packages (from streamlit>=0.63->streamlit-echarts) (3.1.26)\n",
      "Requirement already satisfied: altair>=3.2.0 in /Users/anak/opt/anaconda3/lib/python3.8/site-packages (from streamlit>=0.63->streamlit-echarts) (4.2.0)\n",
      "Requirement already satisfied: toml in /Users/anak/opt/anaconda3/lib/python3.8/site-packages (from streamlit>=0.63->streamlit-echarts) (0.10.2)\n",
      "Requirement already satisfied: packaging in /Users/anak/opt/anaconda3/lib/python3.8/site-packages (from streamlit>=0.63->streamlit-echarts) (20.9)\n",
      "Requirement already satisfied: pympler>=0.9 in /Users/anak/opt/anaconda3/lib/python3.8/site-packages (from streamlit>=0.63->streamlit-echarts) (1.0.1)\n",
      "Requirement already satisfied: tornado>=5.0 in /Users/anak/opt/anaconda3/lib/python3.8/site-packages (from streamlit>=0.63->streamlit-echarts) (6.1)\n",
      "Requirement already satisfied: cachetools>=4.0 in /Users/anak/opt/anaconda3/lib/python3.8/site-packages (from streamlit>=0.63->streamlit-echarts) (4.2.4)\n",
      "Requirement already satisfied: protobuf!=3.11,>=3.6.0 in /Users/anak/opt/anaconda3/lib/python3.8/site-packages (from streamlit>=0.63->streamlit-echarts) (3.19.3)\n",
      "Requirement already satisfied: blinker in /Users/anak/opt/anaconda3/lib/python3.8/site-packages (from streamlit>=0.63->streamlit-echarts) (1.4)\n",
      "Requirement already satisfied: pandas>=0.21.0 in /Users/anak/opt/anaconda3/lib/python3.8/site-packages (from streamlit>=0.63->streamlit-echarts) (1.2.4)\n",
      "Requirement already satisfied: astor in /Users/anak/opt/anaconda3/lib/python3.8/site-packages (from streamlit>=0.63->streamlit-echarts) (0.8.1)\n",
      "Requirement already satisfied: click>=7.0 in /Users/anak/opt/anaconda3/lib/python3.8/site-packages (from streamlit>=0.63->streamlit-echarts) (7.1.2)\n",
      "Requirement already satisfied: python-dateutil in /Users/anak/opt/anaconda3/lib/python3.8/site-packages (from streamlit>=0.63->streamlit-echarts) (2.8.1)\n",
      "Requirement already satisfied: toolz in /Users/anak/opt/anaconda3/lib/python3.8/site-packages (from altair>=3.2.0->streamlit>=0.63->streamlit-echarts) (0.11.1)\n",
      "Requirement already satisfied: jsonschema>=3.0 in /Users/anak/opt/anaconda3/lib/python3.8/site-packages (from altair>=3.2.0->streamlit>=0.63->streamlit-echarts) (3.2.0)\n",
      "Requirement already satisfied: entrypoints in /Users/anak/opt/anaconda3/lib/python3.8/site-packages (from altair>=3.2.0->streamlit>=0.63->streamlit-echarts) (0.3)\n",
      "Requirement already satisfied: gitdb<5,>=4.0.1 in /Users/anak/opt/anaconda3/lib/python3.8/site-packages (from gitpython!=3.1.19->streamlit>=0.63->streamlit-echarts) (4.0.9)\n",
      "Requirement already satisfied: pytz>=2017.3 in /Users/anak/opt/anaconda3/lib/python3.8/site-packages (from pandas>=0.21.0->streamlit>=0.63->streamlit-echarts) (2021.1)\n",
      "Requirement already satisfied: traitlets>=4.3.2 in /Users/anak/opt/anaconda3/lib/python3.8/site-packages (from pydeck>=0.1.dev5->streamlit>=0.63->streamlit-echarts) (5.0.5)\n",
      "Requirement already satisfied: ipykernel>=5.1.2 in /Users/anak/opt/anaconda3/lib/python3.8/site-packages (from pydeck>=0.1.dev5->streamlit>=0.63->streamlit-echarts) (5.3.4)\n",
      "Requirement already satisfied: ipywidgets>=7.0.0 in /Users/anak/opt/anaconda3/lib/python3.8/site-packages (from pydeck>=0.1.dev5->streamlit>=0.63->streamlit-echarts) (7.6.3)\n",
      "Requirement already satisfied: MarkupSafe>=0.23 in /Users/anak/opt/anaconda3/lib/python3.8/site-packages (from jinja2->pyecharts>=1.9->streamlit-echarts) (2.0.1)\n",
      "Requirement already satisfied: six>=1.5 in /Users/anak/opt/anaconda3/lib/python3.8/site-packages (from python-dateutil->streamlit>=0.63->streamlit-echarts) (1.16.0)\n",
      "Requirement already satisfied: pyparsing>=2.0.2 in /Users/anak/opt/anaconda3/lib/python3.8/site-packages (from packaging->streamlit>=0.63->streamlit-echarts) (2.4.7)\n",
      "Requirement already satisfied: wcwidth in /Users/anak/opt/anaconda3/lib/python3.8/site-packages (from prettytable->pyecharts>=1.9->streamlit-echarts) (0.2.5)\n",
      "Requirement already satisfied: certifi>=2017.4.17 in /Users/anak/opt/anaconda3/lib/python3.8/site-packages (from requests->streamlit>=0.63->streamlit-echarts) (2021.10.8)\n",
      "Requirement already satisfied: urllib3<1.27,>=1.21.1 in /Users/anak/opt/anaconda3/lib/python3.8/site-packages (from requests->streamlit>=0.63->streamlit-echarts) (1.26.4)\n",
      "Requirement already satisfied: idna<4,>=2.5 in /Users/anak/opt/anaconda3/lib/python3.8/site-packages (from requests->streamlit>=0.63->streamlit-echarts) (2.10)\n",
      "Requirement already satisfied: charset-normalizer~=2.0.0 in /Users/anak/opt/anaconda3/lib/python3.8/site-packages (from requests->streamlit>=0.63->streamlit-echarts) (2.0.10)\n",
      "Requirement already satisfied: backports.zoneinfo in /Users/anak/opt/anaconda3/lib/python3.8/site-packages (from tzlocal->streamlit>=0.63->streamlit-echarts) (0.2.1)\n",
      "Requirement already satisfied: pytz-deprecation-shim in /Users/anak/opt/anaconda3/lib/python3.8/site-packages (from tzlocal->streamlit>=0.63->streamlit-echarts) (0.1.0.post0)\n",
      "Requirement already satisfied: decorator>=3.4.0 in /Users/anak/opt/anaconda3/lib/python3.8/site-packages (from validators->streamlit>=0.63->streamlit-echarts) (5.0.6)\n",
      "Requirement already satisfied: smmap<6,>=3.0.1 in /Users/anak/opt/anaconda3/lib/python3.8/site-packages (from gitdb<5,>=4.0.1->gitpython!=3.1.19->streamlit>=0.63->streamlit-echarts) (5.0.0)\n",
      "Requirement already satisfied: jupyter-client in /Users/anak/opt/anaconda3/lib/python3.8/site-packages (from ipykernel>=5.1.2->pydeck>=0.1.dev5->streamlit>=0.63->streamlit-echarts) (6.1.12)\n",
      "Requirement already satisfied: ipython>=5.0.0 in /Users/anak/opt/anaconda3/lib/python3.8/site-packages (from ipykernel>=5.1.2->pydeck>=0.1.dev5->streamlit>=0.63->streamlit-echarts) (7.22.0)\n",
      "Requirement already satisfied: appnope in /Users/anak/opt/anaconda3/lib/python3.8/site-packages (from ipykernel>=5.1.2->pydeck>=0.1.dev5->streamlit>=0.63->streamlit-echarts) (0.1.2)\n",
      "Requirement already satisfied: jupyterlab-widgets>=1.0.0 in /Users/anak/opt/anaconda3/lib/python3.8/site-packages (from ipywidgets>=7.0.0->pydeck>=0.1.dev5->streamlit>=0.63->streamlit-echarts) (1.0.0)\n",
      "Requirement already satisfied: nbformat>=4.2.0 in /Users/anak/opt/anaconda3/lib/python3.8/site-packages (from ipywidgets>=7.0.0->pydeck>=0.1.dev5->streamlit>=0.63->streamlit-echarts) (5.1.3)\n",
      "Requirement already satisfied: widgetsnbextension~=3.5.0 in /Users/anak/opt/anaconda3/lib/python3.8/site-packages (from ipywidgets>=7.0.0->pydeck>=0.1.dev5->streamlit>=0.63->streamlit-echarts) (3.5.1)\n",
      "Requirement already satisfied: setuptools in /Users/anak/opt/anaconda3/lib/python3.8/site-packages (from jsonschema>=3.0->altair>=3.2.0->streamlit>=0.63->streamlit-echarts) (52.0.0.post20210125)\n",
      "Requirement already satisfied: pyrsistent>=0.14.0 in /Users/anak/opt/anaconda3/lib/python3.8/site-packages (from jsonschema>=3.0->altair>=3.2.0->streamlit>=0.63->streamlit-echarts) (0.17.3)\n",
      "Requirement already satisfied: ipython-genutils in /Users/anak/opt/anaconda3/lib/python3.8/site-packages (from traitlets>=4.3.2->pydeck>=0.1.dev5->streamlit>=0.63->streamlit-echarts) (0.2.0)\n",
      "Requirement already satisfied: tzdata in /Users/anak/opt/anaconda3/lib/python3.8/site-packages (from pytz-deprecation-shim->tzlocal->streamlit>=0.63->streamlit-echarts) (2021.5)\n",
      "Requirement already satisfied: pickleshare in /Users/anak/opt/anaconda3/lib/python3.8/site-packages (from ipython>=5.0.0->ipykernel>=5.1.2->pydeck>=0.1.dev5->streamlit>=0.63->streamlit-echarts) (0.7.5)\n",
      "Requirement already satisfied: prompt-toolkit!=3.0.0,!=3.0.1,<3.1.0,>=2.0.0 in /Users/anak/opt/anaconda3/lib/python3.8/site-packages (from ipython>=5.0.0->ipykernel>=5.1.2->pydeck>=0.1.dev5->streamlit>=0.63->streamlit-echarts) (3.0.17)\n",
      "Requirement already satisfied: jedi>=0.16 in /Users/anak/opt/anaconda3/lib/python3.8/site-packages (from ipython>=5.0.0->ipykernel>=5.1.2->pydeck>=0.1.dev5->streamlit>=0.63->streamlit-echarts) (0.17.2)\n",
      "Requirement already satisfied: backcall in /Users/anak/opt/anaconda3/lib/python3.8/site-packages (from ipython>=5.0.0->ipykernel>=5.1.2->pydeck>=0.1.dev5->streamlit>=0.63->streamlit-echarts) (0.2.0)\n",
      "Requirement already satisfied: pexpect>4.3 in /Users/anak/opt/anaconda3/lib/python3.8/site-packages (from ipython>=5.0.0->ipykernel>=5.1.2->pydeck>=0.1.dev5->streamlit>=0.63->streamlit-echarts) (4.8.0)\n",
      "Requirement already satisfied: pygments in /Users/anak/opt/anaconda3/lib/python3.8/site-packages (from ipython>=5.0.0->ipykernel>=5.1.2->pydeck>=0.1.dev5->streamlit>=0.63->streamlit-echarts) (2.8.1)\n",
      "Requirement already satisfied: jupyter-core in /Users/anak/opt/anaconda3/lib/python3.8/site-packages (from nbformat>=4.2.0->ipywidgets>=7.0.0->pydeck>=0.1.dev5->streamlit>=0.63->streamlit-echarts) (4.7.1)\n",
      "Requirement already satisfied: notebook>=4.4.1 in /Users/anak/opt/anaconda3/lib/python3.8/site-packages (from widgetsnbextension~=3.5.0->ipywidgets>=7.0.0->pydeck>=0.1.dev5->streamlit>=0.63->streamlit-echarts) (6.3.0)\n",
      "Requirement already satisfied: pyzmq>=13 in /Users/anak/opt/anaconda3/lib/python3.8/site-packages (from jupyter-client->ipykernel>=5.1.2->pydeck>=0.1.dev5->streamlit>=0.63->streamlit-echarts) (20.0.0)\n",
      "Requirement already satisfied: parso<0.8.0,>=0.7.0 in /Users/anak/opt/anaconda3/lib/python3.8/site-packages (from jedi>=0.16->ipython>=5.0.0->ipykernel>=5.1.2->pydeck>=0.1.dev5->streamlit>=0.63->streamlit-echarts) (0.7.0)\n",
      "Requirement already satisfied: Send2Trash>=1.5.0 in /Users/anak/opt/anaconda3/lib/python3.8/site-packages (from notebook>=4.4.1->widgetsnbextension~=3.5.0->ipywidgets>=7.0.0->pydeck>=0.1.dev5->streamlit>=0.63->streamlit-echarts) (1.5.0)\n",
      "Requirement already satisfied: nbconvert in /Users/anak/opt/anaconda3/lib/python3.8/site-packages (from notebook>=4.4.1->widgetsnbextension~=3.5.0->ipywidgets>=7.0.0->pydeck>=0.1.dev5->streamlit>=0.63->streamlit-echarts) (6.0.7)\n",
      "Requirement already satisfied: argon2-cffi in /Users/anak/opt/anaconda3/lib/python3.8/site-packages (from notebook>=4.4.1->widgetsnbextension~=3.5.0->ipywidgets>=7.0.0->pydeck>=0.1.dev5->streamlit>=0.63->streamlit-echarts) (20.1.0)\n",
      "Requirement already satisfied: terminado>=0.8.3 in /Users/anak/opt/anaconda3/lib/python3.8/site-packages (from notebook>=4.4.1->widgetsnbextension~=3.5.0->ipywidgets>=7.0.0->pydeck>=0.1.dev5->streamlit>=0.63->streamlit-echarts) (0.9.4)\n",
      "Requirement already satisfied: prometheus-client in /Users/anak/opt/anaconda3/lib/python3.8/site-packages (from notebook>=4.4.1->widgetsnbextension~=3.5.0->ipywidgets>=7.0.0->pydeck>=0.1.dev5->streamlit>=0.63->streamlit-echarts) (0.10.1)\n",
      "Requirement already satisfied: ptyprocess>=0.5 in /Users/anak/opt/anaconda3/lib/python3.8/site-packages (from pexpect>4.3->ipython>=5.0.0->ipykernel>=5.1.2->pydeck>=0.1.dev5->streamlit>=0.63->streamlit-echarts) (0.7.0)\n",
      "Requirement already satisfied: cffi>=1.0.0 in /Users/anak/opt/anaconda3/lib/python3.8/site-packages (from argon2-cffi->notebook>=4.4.1->widgetsnbextension~=3.5.0->ipywidgets>=7.0.0->pydeck>=0.1.dev5->streamlit>=0.63->streamlit-echarts) (1.14.5)\n",
      "Requirement already satisfied: jupyterlab-pygments in /Users/anak/opt/anaconda3/lib/python3.8/site-packages (from nbconvert->notebook>=4.4.1->widgetsnbextension~=3.5.0->ipywidgets>=7.0.0->pydeck>=0.1.dev5->streamlit>=0.63->streamlit-echarts) (0.1.2)\n",
      "Requirement already satisfied: nbclient<0.6.0,>=0.5.0 in /Users/anak/opt/anaconda3/lib/python3.8/site-packages (from nbconvert->notebook>=4.4.1->widgetsnbextension~=3.5.0->ipywidgets>=7.0.0->pydeck>=0.1.dev5->streamlit>=0.63->streamlit-echarts) (0.5.3)\n",
      "Requirement already satisfied: bleach in /Users/anak/opt/anaconda3/lib/python3.8/site-packages (from nbconvert->notebook>=4.4.1->widgetsnbextension~=3.5.0->ipywidgets>=7.0.0->pydeck>=0.1.dev5->streamlit>=0.63->streamlit-echarts) (3.3.0)\n",
      "Requirement already satisfied: mistune<2,>=0.8.1 in /Users/anak/opt/anaconda3/lib/python3.8/site-packages (from nbconvert->notebook>=4.4.1->widgetsnbextension~=3.5.0->ipywidgets>=7.0.0->pydeck>=0.1.dev5->streamlit>=0.63->streamlit-echarts) (0.8.4)\n",
      "Requirement already satisfied: pandocfilters>=1.4.1 in /Users/anak/opt/anaconda3/lib/python3.8/site-packages (from nbconvert->notebook>=4.4.1->widgetsnbextension~=3.5.0->ipywidgets>=7.0.0->pydeck>=0.1.dev5->streamlit>=0.63->streamlit-echarts) (1.4.3)\n",
      "Requirement already satisfied: testpath in /Users/anak/opt/anaconda3/lib/python3.8/site-packages (from nbconvert->notebook>=4.4.1->widgetsnbextension~=3.5.0->ipywidgets>=7.0.0->pydeck>=0.1.dev5->streamlit>=0.63->streamlit-echarts) (0.4.4)\n",
      "Requirement already satisfied: defusedxml in /Users/anak/opt/anaconda3/lib/python3.8/site-packages (from nbconvert->notebook>=4.4.1->widgetsnbextension~=3.5.0->ipywidgets>=7.0.0->pydeck>=0.1.dev5->streamlit>=0.63->streamlit-echarts) (0.7.1)\n",
      "Requirement already satisfied: pycparser in /Users/anak/opt/anaconda3/lib/python3.8/site-packages (from cffi>=1.0.0->argon2-cffi->notebook>=4.4.1->widgetsnbextension~=3.5.0->ipywidgets>=7.0.0->pydeck>=0.1.dev5->streamlit>=0.63->streamlit-echarts) (2.20)\n",
      "Requirement already satisfied: async-generator in /Users/anak/opt/anaconda3/lib/python3.8/site-packages (from nbclient<0.6.0,>=0.5.0->nbconvert->notebook>=4.4.1->widgetsnbextension~=3.5.0->ipywidgets>=7.0.0->pydeck>=0.1.dev5->streamlit>=0.63->streamlit-echarts) (1.10)\n",
      "Requirement already satisfied: nest-asyncio in /Users/anak/opt/anaconda3/lib/python3.8/site-packages (from nbclient<0.6.0,>=0.5.0->nbconvert->notebook>=4.4.1->widgetsnbextension~=3.5.0->ipywidgets>=7.0.0->pydeck>=0.1.dev5->streamlit>=0.63->streamlit-echarts) (1.5.1)\n",
      "Requirement already satisfied: webencodings in /Users/anak/opt/anaconda3/lib/python3.8/site-packages (from bleach->nbconvert->notebook>=4.4.1->widgetsnbextension~=3.5.0->ipywidgets>=7.0.0->pydeck>=0.1.dev5->streamlit>=0.63->streamlit-echarts) (0.5.1)\n",
      "Note: you may need to restart the kernel to use updated packages.\n"
     ]
    }
   ],
   "source": [
    "pip install streamlit-echarts"
   ]
  },
  {
   "cell_type": "code",
   "execution_count": 42,
   "id": "0368e5eb",
   "metadata": {},
   "outputs": [
    {
     "data": {
      "image/png": "[encoded data removed]",
      "text/plain": [
       "<Figure size 720x432 with 1 Axes>"
      ]
     },
     "metadata": {
      "needs_background": "light"
     },
     "output_type": "display_data"
    }
   ],
   "source": [
    "plt.figure(figsize=(10,6))\n",
    "sns.boxenplot(x='Stars', y='polarity', data=df)\n",
    "plt.show();"
   ]
  },
  {
   "cell_type": "code",
   "execution_count": 43,
   "id": "34e954b1",
   "metadata": {},
   "outputs": [
    {
     "data": {
      "text/plain": [
       "[' refresh keep bottle nightstand spray every night morning refresh scent',\n",
       " ' bit overprice regular thermal water',\n",
       " ' five star refresh',\n",
       " ' five star wife like',\n",
       " ' overprice market price']"
      ]
     },
     "execution_count": 43,
     "metadata": {},
     "output_type": "execute_result"
    }
   ],
   "source": [
    "df.loc[(df.polarity ==0 & (df.Stars == 4))].Text.tolist()"
   ]
  },
  {
   "cell_type": "code",
   "execution_count": 44,
   "id": "886f0f60",
   "metadata": {},
   "outputs": [
    {
     "data": {
      "text/html": [
       "<div>\n",
       "<style scoped>\n",
       "    .dataframe tbody tr th:only-of-type {\n",
       "        vertical-align: middle;\n",
       "    }\n",
       "\n",
       "    .dataframe tbody tr th {\n",
       "        vertical-align: top;\n",
       "    }\n",
       "\n",
       "    .dataframe thead th {\n",
       "        text-align: right;\n",
       "    }\n",
       "</style>\n",
       "<table border=\"1\" class=\"dataframe\">\n",
       "  <thead>\n",
       "    <tr style=\"text-align: right;\">\n",
       "      <th></th>\n",
       "      <th>Stars</th>\n",
       "      <th>Text</th>\n",
       "      <th>stopwords</th>\n",
       "      <th>punctuation</th>\n",
       "      <th>numerics</th>\n",
       "      <th>upper</th>\n",
       "      <th>word_count</th>\n",
       "      <th>char_count</th>\n",
       "      <th>avg_word</th>\n",
       "      <th>polarity</th>\n",
       "    </tr>\n",
       "  </thead>\n",
       "  <tbody>\n",
       "    <tr>\n",
       "      <th>6</th>\n",
       "      <td>1</td>\n",
       "      <td>spray defective waste spray get plug week way</td>\n",
       "      <td>9</td>\n",
       "      <td>2</td>\n",
       "      <td>0</td>\n",
       "      <td>0</td>\n",
       "      <td>9</td>\n",
       "      <td>46</td>\n",
       "      <td>4.7</td>\n",
       "      <td>-0.200000</td>\n",
       "    </tr>\n",
       "    <tr>\n",
       "      <th>10</th>\n",
       "      <td>5</td>\n",
       "      <td>soothe skin aid moisturizer application miner...</td>\n",
       "      <td>41</td>\n",
       "      <td>8</td>\n",
       "      <td>0</td>\n",
       "      <td>1</td>\n",
       "      <td>47</td>\n",
       "      <td>324</td>\n",
       "      <td>6.0</td>\n",
       "      <td>-0.105556</td>\n",
       "    </tr>\n",
       "    <tr>\n",
       "      <th>42</th>\n",
       "      <td>1</td>\n",
       "      <td>defective prayer stop spray correctly half st...</td>\n",
       "      <td>16</td>\n",
       "      <td>5</td>\n",
       "      <td>0</td>\n",
       "      <td>0</td>\n",
       "      <td>21</td>\n",
       "      <td>137</td>\n",
       "      <td>5.8</td>\n",
       "      <td>-0.041667</td>\n",
       "    </tr>\n",
       "    <tr>\n",
       "      <th>55</th>\n",
       "      <td>1</td>\n",
       "      <td>poor use several time stop spray water inside...</td>\n",
       "      <td>6</td>\n",
       "      <td>2</td>\n",
       "      <td>0</td>\n",
       "      <td>2</td>\n",
       "      <td>13</td>\n",
       "      <td>72</td>\n",
       "      <td>5.0</td>\n",
       "      <td>-0.266667</td>\n",
       "    </tr>\n",
       "    <tr>\n",
       "      <th>59</th>\n",
       "      <td>5</td>\n",
       "      <td>well brother think truly immediate effect dry...</td>\n",
       "      <td>6</td>\n",
       "      <td>1</td>\n",
       "      <td>0</td>\n",
       "      <td>2</td>\n",
       "      <td>10</td>\n",
       "      <td>55</td>\n",
       "      <td>5.1</td>\n",
       "      <td>-0.066667</td>\n",
       "    </tr>\n",
       "    <tr>\n",
       "      <th>75</th>\n",
       "      <td>3</td>\n",
       "      <td>refresh benefit bought base review read popul...</td>\n",
       "      <td>17</td>\n",
       "      <td>4</td>\n",
       "      <td>0</td>\n",
       "      <td>2</td>\n",
       "      <td>17</td>\n",
       "      <td>106</td>\n",
       "      <td>5.6</td>\n",
       "      <td>-0.096875</td>\n",
       "    </tr>\n",
       "    <tr>\n",
       "      <th>89</th>\n",
       "      <td>3</td>\n",
       "      <td>wouldn recommend moisturise dry skin wouldn r...</td>\n",
       "      <td>5</td>\n",
       "      <td>1</td>\n",
       "      <td>0</td>\n",
       "      <td>2</td>\n",
       "      <td>8</td>\n",
       "      <td>54</td>\n",
       "      <td>6.7</td>\n",
       "      <td>-0.066667</td>\n",
       "    </tr>\n",
       "  </tbody>\n",
       "</table>\n",
       "</div>"
      ],
      "text/plain": [
       "    Stars                                               Text  stopwords  \\\n",
       "6       1      spray defective waste spray get plug week way          9   \n",
       "10      5   soothe skin aid moisturizer application miner...         41   \n",
       "42      1   defective prayer stop spray correctly half st...         16   \n",
       "55      1   poor use several time stop spray water inside...          6   \n",
       "59      5   well brother think truly immediate effect dry...          6   \n",
       "75      3   refresh benefit bought base review read popul...         17   \n",
       "89      3   wouldn recommend moisturise dry skin wouldn r...          5   \n",
       "\n",
       "    punctuation  numerics  upper  word_count  char_count  avg_word  polarity  \n",
       "6             2         0      0           9          46       4.7 -0.200000  \n",
       "10            8         0      1          47         324       6.0 -0.105556  \n",
       "42            5         0      0          21         137       5.8 -0.041667  \n",
       "55            2         0      2          13          72       5.0 -0.266667  \n",
       "59            1         0      2          10          55       5.1 -0.066667  \n",
       "75            4         0      2          17         106       5.6 -0.096875  \n",
       "89            1         0      2           8          54       6.7 -0.066667  "
      ]
     },
     "execution_count": 44,
     "metadata": {},
     "output_type": "execute_result"
    }
   ],
   "source": [
    "df_bad_reviews = df[(df.polarity < 0)]\n",
    "df_bad_reviews\n"
   ]
  },
  {
   "cell_type": "markdown",
   "id": "8f8b2681",
   "metadata": {},
   "source": []
  },
  {
   "cell_type": "markdown",
   "id": "a6f77559",
   "metadata": {},
   "source": [
    "# Punctuation Vs Polarity"
   ]
  },
  {
   "cell_type": "code",
   "execution_count": 45,
   "id": "4c0e004f",
   "metadata": {},
   "outputs": [
    {
     "data": {
      "image/png": "[encoded data removed]",
      "text/plain": [
       "<Figure size 1080x576 with 1 Axes>"
      ]
     },
     "metadata": {
      "needs_background": "light"
     },
     "output_type": "display_data"
    }
   ],
   "source": [
    "plt.figure(figsize=(15,8))\n",
    "df3= df.loc[df.upper <= 50]\n",
    "sns.boxenplot(x='punctuation', y='polarity', data=df3)\n",
    "plt.xlabel('Punctuation', fontsize=13)\n",
    "plt.ylabel('Polarity Score', fontsize=13)\n",
    "plt.title('Punctuation vs Polarity Plot', fontsize=15)\n",
    "plt.show();"
   ]
  },
  {
   "cell_type": "markdown",
   "id": "a52a0aa9",
   "metadata": {},
   "source": [
    "# Helpfulness vs Polarity"
   ]
  },
  {
   "cell_type": "code",
   "execution_count": 46,
   "id": "d9323a88",
   "metadata": {},
   "outputs": [
    {
     "data": {
      "text/html": [
       "<div>\n",
       "<style scoped>\n",
       "    .dataframe tbody tr th:only-of-type {\n",
       "        vertical-align: middle;\n",
       "    }\n",
       "\n",
       "    .dataframe tbody tr th {\n",
       "        vertical-align: top;\n",
       "    }\n",
       "\n",
       "    .dataframe thead th {\n",
       "        text-align: right;\n",
       "    }\n",
       "</style>\n",
       "<table border=\"1\" class=\"dataframe\">\n",
       "  <thead>\n",
       "    <tr style=\"text-align: right;\">\n",
       "      <th></th>\n",
       "      <th>Stars</th>\n",
       "      <th>Text</th>\n",
       "      <th>stopwords</th>\n",
       "      <th>punctuation</th>\n",
       "      <th>numerics</th>\n",
       "      <th>upper</th>\n",
       "      <th>word_count</th>\n",
       "      <th>char_count</th>\n",
       "      <th>avg_word</th>\n",
       "      <th>polarity</th>\n",
       "      <th>subjectivity</th>\n",
       "    </tr>\n",
       "  </thead>\n",
       "  <tbody>\n",
       "    <tr>\n",
       "      <th>43</th>\n",
       "      <td>5</td>\n",
       "      <td>good picture</td>\n",
       "      <td>4</td>\n",
       "      <td>0</td>\n",
       "      <td>0</td>\n",
       "      <td>0</td>\n",
       "      <td>3</td>\n",
       "      <td>13</td>\n",
       "      <td>5.5</td>\n",
       "      <td>0.700000</td>\n",
       "      <td>0.600000</td>\n",
       "    </tr>\n",
       "    <tr>\n",
       "      <th>39</th>\n",
       "      <td>5</td>\n",
       "      <td>five star really good service fast delivery w...</td>\n",
       "      <td>7</td>\n",
       "      <td>2</td>\n",
       "      <td>0</td>\n",
       "      <td>0</td>\n",
       "      <td>14</td>\n",
       "      <td>74</td>\n",
       "      <td>4.7</td>\n",
       "      <td>0.383333</td>\n",
       "      <td>0.683333</td>\n",
       "    </tr>\n",
       "    <tr>\n",
       "      <th>5</th>\n",
       "      <td>5</td>\n",
       "      <td>nice mineral water supra love it face morning...</td>\n",
       "      <td>0</td>\n",
       "      <td>1</td>\n",
       "      <td>0</td>\n",
       "      <td>22</td>\n",
       "      <td>14</td>\n",
       "      <td>77</td>\n",
       "      <td>4.9</td>\n",
       "      <td>0.550000</td>\n",
       "      <td>0.800000</td>\n",
       "    </tr>\n",
       "    <tr>\n",
       "      <th>91</th>\n",
       "      <td>5</td>\n",
       "      <td>love fresh feel face honest know work fresh s...</td>\n",
       "      <td>16</td>\n",
       "      <td>16</td>\n",
       "      <td>0</td>\n",
       "      <td>5</td>\n",
       "      <td>23</td>\n",
       "      <td>135</td>\n",
       "      <td>5.1</td>\n",
       "      <td>0.426190</td>\n",
       "      <td>0.611905</td>\n",
       "    </tr>\n",
       "    <tr>\n",
       "      <th>27</th>\n",
       "      <td>5</td>\n",
       "      <td>cool refresh refresh especially morning start...</td>\n",
       "      <td>12</td>\n",
       "      <td>2</td>\n",
       "      <td>0</td>\n",
       "      <td>1</td>\n",
       "      <td>18</td>\n",
       "      <td>114</td>\n",
       "      <td>5.7</td>\n",
       "      <td>0.191667</td>\n",
       "      <td>0.537500</td>\n",
       "    </tr>\n",
       "    <tr>\n",
       "      <th>3</th>\n",
       "      <td>4</td>\n",
       "      <td>good thermal water spray great extra moisture</td>\n",
       "      <td>1</td>\n",
       "      <td>1</td>\n",
       "      <td>0</td>\n",
       "      <td>0</td>\n",
       "      <td>8</td>\n",
       "      <td>46</td>\n",
       "      <td>5.6</td>\n",
       "      <td>0.500000</td>\n",
       "      <td>0.483333</td>\n",
       "    </tr>\n",
       "    <tr>\n",
       "      <th>31</th>\n",
       "      <td>5</td>\n",
       "      <td>nice perfume skin feel fresh renovate</td>\n",
       "      <td>4</td>\n",
       "      <td>1</td>\n",
       "      <td>0</td>\n",
       "      <td>0</td>\n",
       "      <td>7</td>\n",
       "      <td>38</td>\n",
       "      <td>5.3</td>\n",
       "      <td>0.450000</td>\n",
       "      <td>0.750000</td>\n",
       "    </tr>\n",
       "    <tr>\n",
       "      <th>36</th>\n",
       "      <td>5</td>\n",
       "      <td>dry skin fortify useful hydrate dry skin spir...</td>\n",
       "      <td>9</td>\n",
       "      <td>6</td>\n",
       "      <td>0</td>\n",
       "      <td>0</td>\n",
       "      <td>17</td>\n",
       "      <td>94</td>\n",
       "      <td>4.9</td>\n",
       "      <td>0.345238</td>\n",
       "      <td>0.585714</td>\n",
       "    </tr>\n",
       "    <tr>\n",
       "      <th>33</th>\n",
       "      <td>5</td>\n",
       "      <td>perfect refresh face</td>\n",
       "      <td>0</td>\n",
       "      <td>0</td>\n",
       "      <td>0</td>\n",
       "      <td>0</td>\n",
       "      <td>4</td>\n",
       "      <td>21</td>\n",
       "      <td>6.0</td>\n",
       "      <td>1.000000</td>\n",
       "      <td>1.000000</td>\n",
       "    </tr>\n",
       "    <tr>\n",
       "      <th>86</th>\n",
       "      <td>5</td>\n",
       "      <td>like use make remove start use travel europe ...</td>\n",
       "      <td>34</td>\n",
       "      <td>7</td>\n",
       "      <td>0</td>\n",
       "      <td>4</td>\n",
       "      <td>29</td>\n",
       "      <td>156</td>\n",
       "      <td>4.6</td>\n",
       "      <td>0.125000</td>\n",
       "      <td>0.525000</td>\n",
       "    </tr>\n",
       "  </tbody>\n",
       "</table>\n",
       "</div>"
      ],
      "text/plain": [
       "    Stars                                               Text  stopwords  \\\n",
       "43      5                                       good picture          4   \n",
       "39      5   five star really good service fast delivery w...          7   \n",
       "5       5   nice mineral water supra love it face morning...          0   \n",
       "91      5   love fresh feel face honest know work fresh s...         16   \n",
       "27      5   cool refresh refresh especially morning start...         12   \n",
       "3       4      good thermal water spray great extra moisture          1   \n",
       "31      5              nice perfume skin feel fresh renovate          4   \n",
       "36      5   dry skin fortify useful hydrate dry skin spir...          9   \n",
       "33      5                               perfect refresh face          0   \n",
       "86      5   like use make remove start use travel europe ...         34   \n",
       "\n",
       "    punctuation  numerics  upper  word_count  char_count  avg_word  polarity  \\\n",
       "43            0         0      0           3          13       5.5  0.700000   \n",
       "39            2         0      0          14          74       4.7  0.383333   \n",
       "5             1         0     22          14          77       4.9  0.550000   \n",
       "91           16         0      5          23         135       5.1  0.426190   \n",
       "27            2         0      1          18         114       5.7  0.191667   \n",
       "3             1         0      0           8          46       5.6  0.500000   \n",
       "31            1         0      0           7          38       5.3  0.450000   \n",
       "36            6         0      0          17          94       4.9  0.345238   \n",
       "33            0         0      0           4          21       6.0  1.000000   \n",
       "86            7         0      4          29         156       4.6  0.125000   \n",
       "\n",
       "    subjectivity  \n",
       "43      0.600000  \n",
       "39      0.683333  \n",
       "5       0.800000  \n",
       "91      0.611905  \n",
       "27      0.537500  \n",
       "3       0.483333  \n",
       "31      0.750000  \n",
       "36      0.585714  \n",
       "33      1.000000  \n",
       "86      0.525000  "
      ]
     },
     "execution_count": 46,
     "metadata": {},
     "output_type": "execute_result"
    }
   ],
   "source": [
    "sub = lambda x: TextBlob(x).sentiment.subjectivity\n",
    "df['subjectivity'] = df['Text'].apply(sub)\n",
    "df.sample(10)"
   ]
  },
  {
   "cell_type": "code",
   "execution_count": 47,
   "id": "f0183078",
   "metadata": {},
   "outputs": [
    {
     "data": {
      "text/plain": [
       "Text(0.5, 1.0, 'Distribution of Subjectivity Score')"
      ]
     },
     "execution_count": 47,
     "metadata": {},
     "output_type": "execute_result"
    },
    {
     "data": {
      "image/png": "[encoded data removed]",
      "text/plain": [
       "<Figure size 720x360 with 1 Axes>"
      ]
     },
     "metadata": {
      "needs_background": "light"
     },
     "output_type": "display_data"
    }
   ],
   "source": [
    "# Density Plot and Histogram of subjectivity\n",
    "plt.figure(figsize=(10,5))\n",
    "sns.distplot(df['subjectivity'], hist=True, kde=True,\n",
    "bins=int(50), color = 'darkblue',\n",
    "hist_kws={'edgecolor':'black'},\n",
    "kde_kws={'linewidth': 4})\n",
    "plt.xlim([-0.001,1.001])\n",
    "plt.xlabel('Subjectivity', fontsize=13)\n",
    "plt.ylabel('Frequency', fontsize=13)\n",
    "plt.title('Distribution of Subjectivity Score', fontsize=15)"
   ]
  },
  {
   "cell_type": "code",
   "execution_count": null,
   "id": "a5ca61f0",
   "metadata": {},
   "outputs": [],
   "source": []
  },
  {
   "cell_type": "code",
   "execution_count": 48,
   "id": "91af72f1",
   "metadata": {},
   "outputs": [
    {
     "data": {
      "image/png": "[encoded data removed]",
      "text/plain": [
       "<Figure size 720x432 with 1 Axes>"
      ]
     },
     "metadata": {
      "needs_background": "light"
     },
     "output_type": "display_data"
    }
   ],
   "source": [
    "plt.figure(figsize=(10,6))\n",
    "sns.scatterplot(x='polarity', y='subjectivity', hue=\"Stars\", data=df)\n",
    "plt.xlabel('Polarity', fontsize=13)\n",
    "plt.ylabel('Subjectivity', fontsize=13)\n",
    "plt.title('Polarity vs Subjectivity', fontsize=15)\n",
    "plt.show();"
   ]
  },
  {
   "cell_type": "code",
   "execution_count": 49,
   "id": "1bcdf14d",
   "metadata": {},
   "outputs": [],
   "source": [
    "df2= pd.DataFrame()\n",
    "for i in range (1,6):\n",
    "  df2.loc[i,'polarity']= (df.loc[df.Stars == i].polarity.mean())\n",
    "  df2.loc[i,'subjectivity']= (df.loc[df.Stars == i].subjectivity.mean())"
   ]
  },
  {
   "cell_type": "code",
   "execution_count": 50,
   "id": "f48e4aa5",
   "metadata": {},
   "outputs": [
    {
     "data": {
      "image/png": "[encoded data removed]",
      "text/plain": [
       "<Figure size 720x720 with 1 Axes>"
      ]
     },
     "metadata": {
      "needs_background": "light"
     },
     "output_type": "display_data"
    }
   ],
   "source": [
    "plt.rcParams['figure.figsize'] = [10, 10]\n",
    "\n",
    "for index in range(1,6):\n",
    "    x = df2.polarity.loc[index]\n",
    "    y = df2.subjectivity.loc[index]\n",
    "    plt.scatter(x, y, color='blue')\n",
    "    plt.text(x+.002, y+.001, index, fontsize=10)\n",
    "    plt.xlim(-0.2, 0.5) \n",
    "    plt.ylim(0.40, .6) \n",
    "    \n",
    "plt.title('Sentiment Analysis', fontsize=20)\n",
    "plt.xlabel('<-- Negative -------- Positive -->', fontsize=15)\n",
    "plt.ylabel('<-- Facts -------- Opinions -->', fontsize=15)\n",
    "\n",
    "plt.show()"
   ]
  },
  {
   "cell_type": "code",
   "execution_count": 51,
   "id": "2ca96751",
   "metadata": {},
   "outputs": [],
   "source": [
    "df.to_csv('Analyzed_Data_Vichy.csv')"
   ]
  },
  {
   "cell_type": "code",
   "execution_count": 52,
   "id": "32e3488d",
   "metadata": {},
   "outputs": [
    {
     "data": {
      "text/html": [
       "<div>\n",
       "<style scoped>\n",
       "    .dataframe tbody tr th:only-of-type {\n",
       "        vertical-align: middle;\n",
       "    }\n",
       "\n",
       "    .dataframe tbody tr th {\n",
       "        vertical-align: top;\n",
       "    }\n",
       "\n",
       "    .dataframe thead th {\n",
       "        text-align: right;\n",
       "    }\n",
       "</style>\n",
       "<table border=\"1\" class=\"dataframe\">\n",
       "  <thead>\n",
       "    <tr style=\"text-align: right;\">\n",
       "      <th></th>\n",
       "      <th>Stars</th>\n",
       "      <th>Text</th>\n",
       "      <th>stopwords</th>\n",
       "      <th>punctuation</th>\n",
       "      <th>numerics</th>\n",
       "      <th>upper</th>\n",
       "      <th>word_count</th>\n",
       "      <th>char_count</th>\n",
       "      <th>avg_word</th>\n",
       "      <th>polarity</th>\n",
       "      <th>subjectivity</th>\n",
       "    </tr>\n",
       "  </thead>\n",
       "  <tbody>\n",
       "    <tr>\n",
       "      <th>0</th>\n",
       "      <td>1</td>\n",
       "      <td>great cheap pack half bottle spray broke</td>\n",
       "      <td>3</td>\n",
       "      <td>1</td>\n",
       "      <td>0</td>\n",
       "      <td>0</td>\n",
       "      <td>8</td>\n",
       "      <td>41</td>\n",
       "      <td>4.9</td>\n",
       "      <td>0.344444</td>\n",
       "      <td>0.538889</td>\n",
       "    </tr>\n",
       "    <tr>\n",
       "      <th>1</th>\n",
       "      <td>5</td>\n",
       "      <td>love love</td>\n",
       "      <td>2</td>\n",
       "      <td>0</td>\n",
       "      <td>0</td>\n",
       "      <td>1</td>\n",
       "      <td>3</td>\n",
       "      <td>10</td>\n",
       "      <td>4.0</td>\n",
       "      <td>0.500000</td>\n",
       "      <td>0.600000</td>\n",
       "    </tr>\n",
       "    <tr>\n",
       "      <th>2</th>\n",
       "      <td>5</td>\n",
       "      <td>excellent water face fresh good</td>\n",
       "      <td>4</td>\n",
       "      <td>1</td>\n",
       "      <td>0</td>\n",
       "      <td>0</td>\n",
       "      <td>6</td>\n",
       "      <td>32</td>\n",
       "      <td>5.4</td>\n",
       "      <td>0.666667</td>\n",
       "      <td>0.700000</td>\n",
       "    </tr>\n",
       "    <tr>\n",
       "      <th>3</th>\n",
       "      <td>4</td>\n",
       "      <td>good thermal water spray great extra moisture</td>\n",
       "      <td>1</td>\n",
       "      <td>1</td>\n",
       "      <td>0</td>\n",
       "      <td>0</td>\n",
       "      <td>8</td>\n",
       "      <td>46</td>\n",
       "      <td>5.6</td>\n",
       "      <td>0.500000</td>\n",
       "      <td>0.483333</td>\n",
       "    </tr>\n",
       "    <tr>\n",
       "      <th>4</th>\n",
       "      <td>5</td>\n",
       "      <td>great size bag thermal water perfect everyday...</td>\n",
       "      <td>8</td>\n",
       "      <td>0</td>\n",
       "      <td>0</td>\n",
       "      <td>0</td>\n",
       "      <td>12</td>\n",
       "      <td>70</td>\n",
       "      <td>5.4</td>\n",
       "      <td>0.650000</td>\n",
       "      <td>0.837500</td>\n",
       "    </tr>\n",
       "    <tr>\n",
       "      <th>...</th>\n",
       "      <td>...</td>\n",
       "      <td>...</td>\n",
       "      <td>...</td>\n",
       "      <td>...</td>\n",
       "      <td>...</td>\n",
       "      <td>...</td>\n",
       "      <td>...</td>\n",
       "      <td>...</td>\n",
       "      <td>...</td>\n",
       "      <td>...</td>\n",
       "      <td>...</td>\n",
       "    </tr>\n",
       "    <tr>\n",
       "      <th>95</th>\n",
       "      <td>5</td>\n",
       "      <td>let car get hot effect love make face hydrate...</td>\n",
       "      <td>37</td>\n",
       "      <td>5</td>\n",
       "      <td>0</td>\n",
       "      <td>1</td>\n",
       "      <td>23</td>\n",
       "      <td>112</td>\n",
       "      <td>4.1</td>\n",
       "      <td>0.420000</td>\n",
       "      <td>0.780000</td>\n",
       "    </tr>\n",
       "    <tr>\n",
       "      <th>96</th>\n",
       "      <td>1</td>\n",
       "      <td>overprice market price</td>\n",
       "      <td>3</td>\n",
       "      <td>2</td>\n",
       "      <td>1</td>\n",
       "      <td>0</td>\n",
       "      <td>4</td>\n",
       "      <td>23</td>\n",
       "      <td>6.7</td>\n",
       "      <td>0.000000</td>\n",
       "      <td>0.000000</td>\n",
       "    </tr>\n",
       "    <tr>\n",
       "      <th>97</th>\n",
       "      <td>5</td>\n",
       "      <td>one definitely well actually must can live wi...</td>\n",
       "      <td>14</td>\n",
       "      <td>9</td>\n",
       "      <td>0</td>\n",
       "      <td>1</td>\n",
       "      <td>23</td>\n",
       "      <td>141</td>\n",
       "      <td>5.4</td>\n",
       "      <td>0.152814</td>\n",
       "      <td>0.519048</td>\n",
       "    </tr>\n",
       "    <tr>\n",
       "      <th>98</th>\n",
       "      <td>5</td>\n",
       "      <td>rich vow always love want sure get india star...</td>\n",
       "      <td>14</td>\n",
       "      <td>4</td>\n",
       "      <td>0</td>\n",
       "      <td>2</td>\n",
       "      <td>13</td>\n",
       "      <td>65</td>\n",
       "      <td>4.4</td>\n",
       "      <td>0.458333</td>\n",
       "      <td>0.746296</td>\n",
       "    </tr>\n",
       "    <tr>\n",
       "      <th>99</th>\n",
       "      <td>1</td>\n",
       "      <td>much ok water use whole thing well jacob oil ...</td>\n",
       "      <td>13</td>\n",
       "      <td>1</td>\n",
       "      <td>0</td>\n",
       "      <td>0</td>\n",
       "      <td>12</td>\n",
       "      <td>63</td>\n",
       "      <td>4.7</td>\n",
       "      <td>0.233333</td>\n",
       "      <td>0.500000</td>\n",
       "    </tr>\n",
       "  </tbody>\n",
       "</table>\n",
       "<p>100 rows × 11 columns</p>\n",
       "</div>"
      ],
      "text/plain": [
       "    Stars                                               Text  stopwords  \\\n",
       "0       1           great cheap pack half bottle spray broke          3   \n",
       "1       5                                          love love          2   \n",
       "2       5                    excellent water face fresh good          4   \n",
       "3       4      good thermal water spray great extra moisture          1   \n",
       "4       5   great size bag thermal water perfect everyday...          8   \n",
       "..    ...                                                ...        ...   \n",
       "95      5   let car get hot effect love make face hydrate...         37   \n",
       "96      1                             overprice market price          3   \n",
       "97      5   one definitely well actually must can live wi...         14   \n",
       "98      5   rich vow always love want sure get india star...         14   \n",
       "99      1   much ok water use whole thing well jacob oil ...         13   \n",
       "\n",
       "    punctuation  numerics  upper  word_count  char_count  avg_word  polarity  \\\n",
       "0             1         0      0           8          41       4.9  0.344444   \n",
       "1             0         0      1           3          10       4.0  0.500000   \n",
       "2             1         0      0           6          32       5.4  0.666667   \n",
       "3             1         0      0           8          46       5.6  0.500000   \n",
       "4             0         0      0          12          70       5.4  0.650000   \n",
       "..          ...       ...    ...         ...         ...       ...       ...   \n",
       "95            5         0      1          23         112       4.1  0.420000   \n",
       "96            2         1      0           4          23       6.7  0.000000   \n",
       "97            9         0      1          23         141       5.4  0.152814   \n",
       "98            4         0      2          13          65       4.4  0.458333   \n",
       "99            1         0      0          12          63       4.7  0.233333   \n",
       "\n",
       "    subjectivity  \n",
       "0       0.538889  \n",
       "1       0.600000  \n",
       "2       0.700000  \n",
       "3       0.483333  \n",
       "4       0.837500  \n",
       "..           ...  \n",
       "95      0.780000  \n",
       "96      0.000000  \n",
       "97      0.519048  \n",
       "98      0.746296  \n",
       "99      0.500000  \n",
       "\n",
       "[100 rows x 11 columns]"
      ]
     },
     "execution_count": 52,
     "metadata": {},
     "output_type": "execute_result"
    }
   ],
   "source": [
    "df"
   ]
  },
  {
   "cell_type": "code",
   "execution_count": 53,
   "id": "3b2e9eca",
   "metadata": {},
   "outputs": [],
   "source": [
    "count_stars = df.groupby(df.Stars, as_index = False).agg({'Text':'count'})\n"
   ]
  },
  {
   "cell_type": "code",
   "execution_count": 59,
   "id": "5a154035",
   "metadata": {},
   "outputs": [
    {
     "data": {
      "text/html": [
       "<div>\n",
       "<style scoped>\n",
       "    .dataframe tbody tr th:only-of-type {\n",
       "        vertical-align: middle;\n",
       "    }\n",
       "\n",
       "    .dataframe tbody tr th {\n",
       "        vertical-align: top;\n",
       "    }\n",
       "\n",
       "    .dataframe thead th {\n",
       "        text-align: right;\n",
       "    }\n",
       "</style>\n",
       "<table border=\"1\" class=\"dataframe\">\n",
       "  <thead>\n",
       "    <tr style=\"text-align: right;\">\n",
       "      <th></th>\n",
       "      <th>Stars</th>\n",
       "      <th>Text</th>\n",
       "    </tr>\n",
       "  </thead>\n",
       "  <tbody>\n",
       "    <tr>\n",
       "      <th>0</th>\n",
       "      <td>1</td>\n",
       "      <td>9</td>\n",
       "    </tr>\n",
       "    <tr>\n",
       "      <th>1</th>\n",
       "      <td>2</td>\n",
       "      <td>3</td>\n",
       "    </tr>\n",
       "    <tr>\n",
       "      <th>2</th>\n",
       "      <td>3</td>\n",
       "      <td>12</td>\n",
       "    </tr>\n",
       "    <tr>\n",
       "      <th>3</th>\n",
       "      <td>4</td>\n",
       "      <td>8</td>\n",
       "    </tr>\n",
       "    <tr>\n",
       "      <th>4</th>\n",
       "      <td>5</td>\n",
       "      <td>68</td>\n",
       "    </tr>\n",
       "  </tbody>\n",
       "</table>\n",
       "</div>"
      ],
      "text/plain": [
       "   Stars  Text\n",
       "0      1     9\n",
       "1      2     3\n",
       "2      3    12\n",
       "3      4     8\n",
       "4      5    68"
      ]
     },
     "execution_count": 59,
     "metadata": {},
     "output_type": "execute_result"
    }
   ],
   "source": [
    "count_stars"
   ]
  },
  {
   "cell_type": "code",
   "execution_count": 57,
   "metadata": {},
   "outputs": [
    {
     "data": {
      "text/plain": [
       "(160, 3)"
      ]
     },
     "execution_count": 57,
     "metadata": {},
     "output_type": "execute_result"
    }
   ],
   "source": [
    "data.shape\n"
   ]
  },
  {
   "cell_type": "code",
   "execution_count": 58,
   "id": "4614a97b",
   "metadata": {},
   "outputs": [
    {
     "data": {
      "text/plain": [
       "(100, 3)"
      ]
     },
     "execution_count": 58,
     "metadata": {},
     "output_type": "execute_result"
    }
   ],
   "source": [
    "data_trans.shape"
   ]
  },
  {
   "cell_type": "markdown",
   "id": "23950c06",
   "metadata": {},
   "source": [
    "# EDA ANG GRAPHS"
   ]
  },
  {
   "cell_type": "code",
   "execution_count": 62,
   "id": "dfa8f44c",
   "metadata": {},
   "outputs": [],
   "source": [
    "import seaborn as sns\n",
    "import matplotlib.pyplot as plt \n"
   ]
  },
  {
   "cell_type": "code",
   "execution_count": 64,
   "id": "e678a810",
   "metadata": {},
   "outputs": [
    {
     "data": {
      "text/plain": [
       "Text(0.5, 1.0, 'average words')"
      ]
     },
     "execution_count": 64,
     "metadata": {},
     "output_type": "execute_result"
    },
    {
     "data": {
      "image/png": "[encoded data removed]",
      "text/plain": [
       "<Figure size 1080x360 with 3 Axes>"
      ]
     },
     "metadata": {
      "needs_background": "light"
     },
     "output_type": "display_data"
    }
   ],
   "source": [
    "fig, axes = plt.subplots(1, 3, figsize=(15, 5), sharey=True)\n",
    "#fig.suptitle('words')\n",
    "\n",
    "#nb characters\n",
    "sns.histplot(ax=axes[0], data=df, x=df.char_count)\n",
    "axes[0].set_title('characters count')\n",
    "\n",
    "# word count\n",
    "sns.histplot(ax=axes[1], data=df, x=df.word_count)\n",
    "axes[1].set_title('words count')\n",
    "\n",
    "# avg word\n",
    "sns.histplot(ax=axes[2], data=df, x=df.avg_word) \n",
    "axes[2].set_title('average words')"
   ]
  },
  {
   "cell_type": "code",
   "execution_count": 67,
   "id": "6d61ca77",
   "metadata": {},
   "outputs": [
    {
     "data": {
      "image/png": "[encoded data removed]",
      "text/plain": [
       "<Figure size 720x720 with 1 Axes>"
      ]
     },
     "metadata": {
      "needs_background": "light"
     },
     "output_type": "display_data"
    }
   ],
   "source": [
    "from nltk import FreqDist\n",
    "\n",
    "good_polarity_reviews = df[df.polarity > 0.7]\n",
    "\n",
    "def freq_words(x):\n",
    "    all_words = ' '.join([text for text in x])\n",
    "    all_words = all_words.split()\n",
    "\n",
    "    fdist = FreqDist(all_words)\n",
    "    words_df = pd.DataFrame({'word':list(fdist.keys()), 'count':list(fdist.values())})\n",
    "    \n",
    "    d = words_df.nlargest(columns=\"count\", n=20)\n",
    "    d = d.sort_values(by='count', ascending=True)\n",
    "    d['freq_rel'] = d['count']/(sum(d['count']))\n",
    "    plt.barh(d.word,d['freq_rel'])\n",
    "    plt.title('Most frequent words')\n",
    "    plt.xlabel('Count')\n",
    "    plt.show()\n",
    "    \n",
    "freq_words(df.Text)"
   ]
  },
  {
   "cell_type": "code",
   "execution_count": 68,
   "id": "2f837d56",
   "metadata": {},
   "outputs": [
    {
     "data": {
      "image/png": "[encoded data removed]",
      "text/plain": [
       "<Figure size 720x720 with 1 Axes>"
      ]
     },
     "metadata": {
      "needs_background": "light"
     },
     "output_type": "display_data"
    }
   ],
   "source": [
    "good_polarity_reviews = df[df.polarity < 0]\n",
    "freq_words(good_polarity_reviews.Text)"
   ]
  },
  {
   "cell_type": "markdown",
   "id": "ea99a985",
   "metadata": {},
   "source": [
    "# Rating"
   ]
  },
  {
   "cell_type": "code",
   "execution_count": 69,
   "id": "7c4c53c3",
   "metadata": {},
   "outputs": [
    {
     "data": {
      "text/html": [
       "<div>\n",
       "<style scoped>\n",
       "    .dataframe tbody tr th:only-of-type {\n",
       "        vertical-align: middle;\n",
       "    }\n",
       "\n",
       "    .dataframe tbody tr th {\n",
       "        vertical-align: top;\n",
       "    }\n",
       "\n",
       "    .dataframe thead th {\n",
       "        text-align: right;\n",
       "    }\n",
       "</style>\n",
       "<table border=\"1\" class=\"dataframe\">\n",
       "  <thead>\n",
       "    <tr style=\"text-align: right;\">\n",
       "      <th></th>\n",
       "      <th>Stars</th>\n",
       "      <th>Text</th>\n",
       "      <th>stopwords</th>\n",
       "      <th>punctuation</th>\n",
       "      <th>numerics</th>\n",
       "      <th>upper</th>\n",
       "      <th>word_count</th>\n",
       "      <th>char_count</th>\n",
       "      <th>avg_word</th>\n",
       "      <th>polarity</th>\n",
       "      <th>subjectivity</th>\n",
       "    </tr>\n",
       "  </thead>\n",
       "  <tbody>\n",
       "    <tr>\n",
       "      <th>0</th>\n",
       "      <td>1</td>\n",
       "      <td>9</td>\n",
       "      <td>9</td>\n",
       "      <td>9</td>\n",
       "      <td>9</td>\n",
       "      <td>9</td>\n",
       "      <td>9</td>\n",
       "      <td>9</td>\n",
       "      <td>9</td>\n",
       "      <td>9</td>\n",
       "      <td>9</td>\n",
       "    </tr>\n",
       "    <tr>\n",
       "      <th>1</th>\n",
       "      <td>2</td>\n",
       "      <td>3</td>\n",
       "      <td>3</td>\n",
       "      <td>3</td>\n",
       "      <td>3</td>\n",
       "      <td>3</td>\n",
       "      <td>3</td>\n",
       "      <td>3</td>\n",
       "      <td>3</td>\n",
       "      <td>3</td>\n",
       "      <td>3</td>\n",
       "    </tr>\n",
       "    <tr>\n",
       "      <th>2</th>\n",
       "      <td>3</td>\n",
       "      <td>12</td>\n",
       "      <td>12</td>\n",
       "      <td>12</td>\n",
       "      <td>12</td>\n",
       "      <td>12</td>\n",
       "      <td>12</td>\n",
       "      <td>12</td>\n",
       "      <td>12</td>\n",
       "      <td>12</td>\n",
       "      <td>12</td>\n",
       "    </tr>\n",
       "    <tr>\n",
       "      <th>3</th>\n",
       "      <td>4</td>\n",
       "      <td>8</td>\n",
       "      <td>8</td>\n",
       "      <td>8</td>\n",
       "      <td>8</td>\n",
       "      <td>8</td>\n",
       "      <td>8</td>\n",
       "      <td>8</td>\n",
       "      <td>8</td>\n",
       "      <td>8</td>\n",
       "      <td>8</td>\n",
       "    </tr>\n",
       "    <tr>\n",
       "      <th>4</th>\n",
       "      <td>5</td>\n",
       "      <td>68</td>\n",
       "      <td>68</td>\n",
       "      <td>68</td>\n",
       "      <td>68</td>\n",
       "      <td>68</td>\n",
       "      <td>68</td>\n",
       "      <td>68</td>\n",
       "      <td>68</td>\n",
       "      <td>68</td>\n",
       "      <td>68</td>\n",
       "    </tr>\n",
       "  </tbody>\n",
       "</table>\n",
       "</div>"
      ],
      "text/plain": [
       "   Stars  Text  stopwords  punctuation  numerics  upper  word_count  \\\n",
       "0      1     9          9            9         9      9           9   \n",
       "1      2     3          3            3         3      3           3   \n",
       "2      3    12         12           12        12     12          12   \n",
       "3      4     8          8            8         8      8           8   \n",
       "4      5    68         68           68        68     68          68   \n",
       "\n",
       "   char_count  avg_word  polarity  subjectivity  \n",
       "0           9         9         9             9  \n",
       "1           3         3         3             3  \n",
       "2          12        12        12            12  \n",
       "3           8         8         8             8  \n",
       "4          68        68        68            68  "
      ]
     },
     "execution_count": 69,
     "metadata": {},
     "output_type": "execute_result"
    }
   ],
   "source": [
    "count_stars = df.groupby(df.Stars, as_index = False).count()\n",
    "count_stars"
   ]
  },
  {
   "cell_type": "code",
   "execution_count": 70,
   "id": "c574899c",
   "metadata": {},
   "outputs": [
    {
     "data": {
      "image/png": "[encoded data removed]",
      "text/plain": [
       "<Figure size 720x720 with 1 Axes>"
      ]
     },
     "metadata": {},
     "output_type": "display_data"
    }
   ],
   "source": [
    "count_stars = df.groupby(df.Stars, as_index = False).count()\n",
    "\n",
    "names = ['1 star','2 star','3 star','4 star','5 star']\n",
    "plt.pie(count_stars.Text, labels=names, colors=['firebrick','darkorange','gold','yellowgreen','green'], startangle=90)\n",
    "\n",
    "# add a circle at the center to transform it in a donut chart\n",
    "my_circle=plt.Circle( (0,0), 0.7, color='white')\n",
    "\n",
    "p=plt.gcf()\n",
    "p.gca().add_artist(my_circle)\n",
    "\n",
    "plt.show()"
   ]
  },
  {
   "cell_type": "markdown",
   "id": "a03372df",
   "metadata": {},
   "source": [
    "# Wordcount"
   ]
  },
  {
   "cell_type": "markdown",
   "id": "7cd533e3",
   "metadata": {},
   "source": [
    "# Good reviews"
   ]
  },
  {
   "cell_type": "code",
   "execution_count": 71,
   "id": "947d027f",
   "metadata": {},
   "outputs": [
    {
     "data": {
      "image/png": "[encoded data removed]",
      "text/plain": [
       "<Figure size 720x720 with 1 Axes>"
      ]
     },
     "metadata": {
      "needs_background": "light"
     },
     "output_type": "display_data"
    }
   ],
   "source": [
    "# create corpus good reviews\n",
    "df_good_reviews = df[(df.polarity >0.7)]\n",
    "corpus_good_reviews =[]\n",
    "# split each words comment in a list\n",
    "corpus_good_reviews = df_good_reviews['Text'].str.split()\n",
    "\n",
    "# add all splitted words in a list\n",
    "corpus_good_reviews = corpus_good_reviews.values.tolist()\n",
    "corpus_good_reviews = [word for i in corpus_good_reviews for word in i]\n",
    "\n",
    "# unify corpus in one element\n",
    "words_good = '' \n",
    "words_good += \" \".join(corpus_good_reviews)+\" \"\n",
    "\n",
    "# add stopwords\n",
    "stopwords=set(['use','product','come','can'])\n",
    "\n",
    "\n",
    "#pic = np.array(Image.open(requests.get('http://cliparts/8/4/s/A/p/8/thumb-up-md.png',stream=True).raw))\n",
    "\n",
    "# wordcloud : see the most frequent words (visualization)\n",
    "wordcloud = WordCloud(width = 700, height = 300, background_color ='white', stopwords=stopwords, \n",
    "             min_font_size=10, colormap='bone').generate(words_good)\n",
    "\n",
    "# plot\n",
    "plt.figure(figsize = (10, 10)) \n",
    "plt.imshow(wordcloud, interpolation=\"bilinear\") \n",
    "plt.axis(\"off\") \n",
    "plt.tight_layout(pad = 0) \n",
    "plt.show()"
   ]
  },
  {
   "cell_type": "markdown",
   "id": "e556e518",
   "metadata": {},
   "source": [
    "# Bad Reviews"
   ]
  },
  {
   "cell_type": "code",
   "execution_count": 73,
   "id": "2ebeb779",
   "metadata": {},
   "outputs": [
    {
     "data": {
      "image/png": "[encoded data removed]",
      "text/plain": [
       "<Figure size 720x720 with 1 Axes>"
      ]
     },
     "metadata": {
      "needs_background": "light"
     },
     "output_type": "display_data"
    }
   ],
   "source": [
    "# create corpus bad reviews\n",
    "df_bad_reviews = df[(df.polarity <0)]\n",
    "\n",
    "# split each words comment in a list\n",
    "corpus_bad_reviews =[]\n",
    "corpus_bad_reviews = df_bad_reviews['Text'].str.split()\n",
    "\n",
    "# add all splitted words in a list\n",
    "corpus_bad_reviews = corpus_bad_reviews.values.tolist()\n",
    "corpus_bad_reviews = [word for i in corpus_bad_reviews for word in i]\n",
    "# unify in one element\n",
    "words_bad = '' \n",
    "words_bad += \" \".join(corpus_bad_reviews)+\" \"\n",
    "# add stopwords\n",
    "stopwords=set(['use','product','come','can'])\n",
    "#pic = np.array(Image.open(requests.get('http://www.clker.com/cliparts/5/5/d/6/1194989754480445982tiger_graig_ryan_smith_-_01.svg.med.png',stream=True).raw))\n",
    "# wordcloud : see the most frequent words (visualization)\n",
    "wordcloud = WordCloud(width=700, height=300, background_color='white', stopwords=stopwords, \n",
    "                min_font_size=10, colormap='bone').generate(words_bad)\n",
    "# plot\n",
    "plt.figure(figsize = (10, 10)) \n",
    "plt.imshow(wordcloud, interpolation=\"bilinear\") \n",
    "plt.axis(\"off\") \n",
    "plt.tight_layout(pad = 0) \n",
    "plt.show()"
   ]
  },
  {
   "cell_type": "code",
   "execution_count": null,
   "id": "ca894caa",
   "metadata": {},
   "outputs": [],
   "source": []
  }
 ],
 "metadata": {
  "kernelspec": {
   "display_name": "Python 3 (ipykernel)",
   "language": "python",
   "name": "python3"
  },
  "language_info": {
   "codemirror_mode": {
    "name": "ipython",
    "version": 3
   },
   "file_extension": ".py",
   "mimetype": "text/x-python",
   "name": "python",
   "nbconvert_exporter": "python",
   "pygments_lexer": "ipython3",
   "version": "3.8.8"
  }
 },
 "nbformat": 4,
 "nbformat_minor": 5
}
